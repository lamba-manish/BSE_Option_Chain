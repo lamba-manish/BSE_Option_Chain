{
 "cells": [
  {
   "cell_type": "code",
   "execution_count": 1,
   "id": "eec6f95c-a3c3-46a7-a769-cec99df51034",
   "metadata": {
    "tags": []
   },
   "outputs": [],
   "source": [
    "bse_indices=['SENSEX', 'BANKEX', 'SX50']"
   ]
  },
  {
   "cell_type": "code",
   "execution_count": 103,
   "id": "ff888b92-987f-4cb9-b401-0e35bef12521",
   "metadata": {
    "tags": []
   },
   "outputs": [],
   "source": [
    "import requests\n",
    "import time\n",
    "import datetime\n",
    "import json\n",
    "\n",
    "url_base='https://www.bseindia.com'\n",
    "url1='https://api.bseindia.com/RealTimeBseIndiaAPI/api/GetSensexData/w'\n",
    "#sensex io\n",
    "url2='https://api.bseindia.com/BseIndiaAPI/api/DerivOptionChain/w?Expiry=19+May+2023&ProductType=IO&scrip_cd=1' \n",
    "#bankex io\n",
    "url3='https://api.bseindia.com/BseIndiaAPI/api/DerivOptionChain/w?Expiry=19+May+2023&ProductType=IO&scrip_cd=12'\n",
    "# sx50 io\n",
    "url4='https://api.bseindia.com/BseIndiaAPI/api/DerivOptionChain/w?Expiry=18+May+2023&ProductType=IO&scrip_cd=47'\n",
    "headers = {'user-agent':'Mozilla/5.0 (Windows NT 10.0; Win64; x64) AppleWebKit/537.36 (KHTML, like Gecko) Chrome/80.0.3987.149 Safari/537.36','accept-language': 'en,gu;q=0.9,hi;q=0.8','accept-encoding': 'gzip, deflate, br'}"
   ]
  },
  {
   "cell_type": "code",
   "execution_count": 125,
   "id": "0e972ca9-d1b6-4cde-ac88-aeee7103325b",
   "metadata": {
    "tags": []
   },
   "outputs": [],
   "source": [
    "sess=requests.Session()\n",
    "response=sess.get(url=url_base, headers=headers, timeout=15)\n",
    "cookies=response.cookies\n",
    "option_chain=sess.get(url=url2, headers=headers, cookies=cookies, timeout=15)\n",
    "data_chain=option_chain.json()"
   ]
  },
  {
   "cell_type": "code",
   "execution_count": 126,
   "id": "998cdcf6-0168-4859-9c37-f77233df53a8",
   "metadata": {
    "tags": []
   },
   "outputs": [
    {
     "data": {
      "text/plain": [
       "{'Table': [{'C_Series_Code': 'SENSEX2351960000CE',\n",
       "   'C_Open_Interest': None,\n",
       "   'C_Absolute_Change_OI': None,\n",
       "   'C_Last_Trd_Price': None,\n",
       "   'C_NetChange': None,\n",
       "   'C_Vol_Traded': None,\n",
       "   'C_BIdQty': None,\n",
       "   'C_BidPrice': None,\n",
       "   'C_OfferPrice': None,\n",
       "   'C_OfferQty': None,\n",
       "   'C_Series_Id': 872087,\n",
       "   'Strike_Price': 60000.0,\n",
       "   'ScriP_cd': 1,\n",
       "   'Series_Id': 871436,\n",
       "   'BIdQty': None,\n",
       "   'BidPrice': None,\n",
       "   'OfferPrice': None,\n",
       "   'OfferQty': None,\n",
       "   'Vol_Traded': None,\n",
       "   'Last_Trd_Price': None,\n",
       "   'NetChange': None,\n",
       "   'Absolute_Change_OI': None,\n",
       "   'Open_Interest': None,\n",
       "   'Ula_Code': 'SENSEX',\n",
       "   'End_TimeStamp': '19 May 2023',\n",
       "   'Product_Type': 'Index Option',\n",
       "   'p_Series_Code': 'SENSEX2351960000PE',\n",
       "   'SCRIP_ID': 'BSX',\n",
       "   'C_SCRIP_ID': 'BSX',\n",
       "   'comapny_name': 'SENSEX              ',\n",
       "   'C_comapny_name': 'SENSEX              ',\n",
       "   'UlaValue': 62345.71},\n",
       "  {'C_Series_Code': 'SENSEX2351960100CE',\n",
       "   'C_Open_Interest': None,\n",
       "   'C_Absolute_Change_OI': None,\n",
       "   'C_Last_Trd_Price': None,\n",
       "   'C_NetChange': None,\n",
       "   'C_Vol_Traded': None,\n",
       "   'C_BIdQty': None,\n",
       "   'C_BidPrice': None,\n",
       "   'C_OfferPrice': None,\n",
       "   'C_OfferQty': None,\n",
       "   'C_Series_Id': 871620,\n",
       "   'Strike_Price': 60100.0,\n",
       "   'ScriP_cd': 1,\n",
       "   'Series_Id': 872025,\n",
       "   'BIdQty': None,\n",
       "   'BidPrice': None,\n",
       "   'OfferPrice': None,\n",
       "   'OfferQty': None,\n",
       "   'Vol_Traded': None,\n",
       "   'Last_Trd_Price': None,\n",
       "   'NetChange': None,\n",
       "   'Absolute_Change_OI': None,\n",
       "   'Open_Interest': None,\n",
       "   'Ula_Code': 'SENSEX',\n",
       "   'End_TimeStamp': '19 May 2023',\n",
       "   'Product_Type': 'Index Option',\n",
       "   'p_Series_Code': 'SENSEX2351960100PE',\n",
       "   'SCRIP_ID': 'BSX',\n",
       "   'C_SCRIP_ID': 'BSX',\n",
       "   'comapny_name': 'SENSEX              ',\n",
       "   'C_comapny_name': 'SENSEX              ',\n",
       "   'UlaValue': 62345.71},\n",
       "  {'C_Series_Code': 'SENSEX2351960200CE',\n",
       "   'C_Open_Interest': None,\n",
       "   'C_Absolute_Change_OI': None,\n",
       "   'C_Last_Trd_Price': None,\n",
       "   'C_NetChange': None,\n",
       "   'C_Vol_Traded': None,\n",
       "   'C_BIdQty': None,\n",
       "   'C_BidPrice': None,\n",
       "   'C_OfferPrice': None,\n",
       "   'C_OfferQty': None,\n",
       "   'C_Series_Id': 871143,\n",
       "   'Strike_Price': 60200.0,\n",
       "   'ScriP_cd': 1,\n",
       "   'Series_Id': 871552,\n",
       "   'BIdQty': None,\n",
       "   'BidPrice': None,\n",
       "   'OfferPrice': None,\n",
       "   'OfferQty': None,\n",
       "   'Vol_Traded': None,\n",
       "   'Last_Trd_Price': None,\n",
       "   'NetChange': None,\n",
       "   'Absolute_Change_OI': None,\n",
       "   'Open_Interest': None,\n",
       "   'Ula_Code': 'SENSEX',\n",
       "   'End_TimeStamp': '19 May 2023',\n",
       "   'Product_Type': 'Index Option',\n",
       "   'p_Series_Code': 'SENSEX2351960200PE',\n",
       "   'SCRIP_ID': 'BSX',\n",
       "   'C_SCRIP_ID': 'BSX',\n",
       "   'comapny_name': 'SENSEX              ',\n",
       "   'C_comapny_name': 'SENSEX              ',\n",
       "   'UlaValue': 62345.71},\n",
       "  {'C_Series_Code': 'SENSEX2351960300CE',\n",
       "   'C_Open_Interest': None,\n",
       "   'C_Absolute_Change_OI': None,\n",
       "   'C_Last_Trd_Price': None,\n",
       "   'C_NetChange': None,\n",
       "   'C_Vol_Traded': None,\n",
       "   'C_BIdQty': None,\n",
       "   'C_BidPrice': None,\n",
       "   'C_OfferPrice': None,\n",
       "   'C_OfferQty': None,\n",
       "   'C_Series_Id': 871731,\n",
       "   'Strike_Price': 60300.0,\n",
       "   'ScriP_cd': 1,\n",
       "   'Series_Id': 872146,\n",
       "   'BIdQty': None,\n",
       "   'BidPrice': None,\n",
       "   'OfferPrice': None,\n",
       "   'OfferQty': None,\n",
       "   'Vol_Traded': None,\n",
       "   'Last_Trd_Price': None,\n",
       "   'NetChange': None,\n",
       "   'Absolute_Change_OI': None,\n",
       "   'Open_Interest': None,\n",
       "   'Ula_Code': 'SENSEX',\n",
       "   'End_TimeStamp': '19 May 2023',\n",
       "   'Product_Type': 'Index Option',\n",
       "   'p_Series_Code': 'SENSEX2351960300PE',\n",
       "   'SCRIP_ID': 'BSX',\n",
       "   'C_SCRIP_ID': 'BSX',\n",
       "   'comapny_name': 'SENSEX              ',\n",
       "   'C_comapny_name': 'SENSEX              ',\n",
       "   'UlaValue': 62345.71},\n",
       "  {'C_Series_Code': 'SENSEX2351960400CE',\n",
       "   'C_Open_Interest': None,\n",
       "   'C_Absolute_Change_OI': None,\n",
       "   'C_Last_Trd_Price': None,\n",
       "   'C_NetChange': None,\n",
       "   'C_Vol_Traded': None,\n",
       "   'C_BIdQty': None,\n",
       "   'C_BidPrice': None,\n",
       "   'C_OfferPrice': None,\n",
       "   'C_OfferQty': None,\n",
       "   'C_Series_Id': 871276,\n",
       "   'Strike_Price': 60400.0,\n",
       "   'ScriP_cd': 1,\n",
       "   'Series_Id': 871676,\n",
       "   'BIdQty': None,\n",
       "   'BidPrice': None,\n",
       "   'OfferPrice': None,\n",
       "   'OfferQty': None,\n",
       "   'Vol_Traded': None,\n",
       "   'Last_Trd_Price': None,\n",
       "   'NetChange': None,\n",
       "   'Absolute_Change_OI': None,\n",
       "   'Open_Interest': None,\n",
       "   'Ula_Code': 'SENSEX',\n",
       "   'End_TimeStamp': '19 May 2023',\n",
       "   'Product_Type': 'Index Option',\n",
       "   'p_Series_Code': 'SENSEX2351960400PE',\n",
       "   'SCRIP_ID': 'BSX',\n",
       "   'C_SCRIP_ID': 'BSX',\n",
       "   'comapny_name': 'SENSEX              ',\n",
       "   'C_comapny_name': 'SENSEX              ',\n",
       "   'UlaValue': 62345.71},\n",
       "  {'C_Series_Code': 'SENSEX2351960500CE',\n",
       "   'C_Open_Interest': None,\n",
       "   'C_Absolute_Change_OI': None,\n",
       "   'C_Last_Trd_Price': None,\n",
       "   'C_NetChange': None,\n",
       "   'C_Vol_Traded': None,\n",
       "   'C_BIdQty': None,\n",
       "   'C_BidPrice': None,\n",
       "   'C_OfferPrice': None,\n",
       "   'C_OfferQty': None,\n",
       "   'C_Series_Id': 871843,\n",
       "   'Strike_Price': 60500.0,\n",
       "   'ScriP_cd': 1,\n",
       "   'Series_Id': 871213,\n",
       "   'BIdQty': None,\n",
       "   'BidPrice': None,\n",
       "   'OfferPrice': None,\n",
       "   'OfferQty': None,\n",
       "   'Vol_Traded': None,\n",
       "   'Last_Trd_Price': None,\n",
       "   'NetChange': None,\n",
       "   'Absolute_Change_OI': None,\n",
       "   'Open_Interest': None,\n",
       "   'Ula_Code': 'SENSEX',\n",
       "   'End_TimeStamp': '19 May 2023',\n",
       "   'Product_Type': 'Index Option',\n",
       "   'p_Series_Code': 'SENSEX2351960500PE',\n",
       "   'SCRIP_ID': 'BSX',\n",
       "   'C_SCRIP_ID': 'BSX',\n",
       "   'comapny_name': 'SENSEX              ',\n",
       "   'C_comapny_name': 'SENSEX              ',\n",
       "   'UlaValue': 62345.71},\n",
       "  {'C_Series_Code': 'SENSEX2351960600CE',\n",
       "   'C_Open_Interest': None,\n",
       "   'C_Absolute_Change_OI': None,\n",
       "   'C_Last_Trd_Price': None,\n",
       "   'C_NetChange': None,\n",
       "   'C_Vol_Traded': None,\n",
       "   'C_BIdQty': None,\n",
       "   'C_BidPrice': None,\n",
       "   'C_OfferPrice': None,\n",
       "   'C_OfferQty': None,\n",
       "   'C_Series_Id': 871392,\n",
       "   'Strike_Price': 60600.0,\n",
       "   'ScriP_cd': 1,\n",
       "   'Series_Id': 871785,\n",
       "   'BIdQty': None,\n",
       "   'BidPrice': None,\n",
       "   'OfferPrice': None,\n",
       "   'OfferQty': None,\n",
       "   'Vol_Traded': None,\n",
       "   'Last_Trd_Price': None,\n",
       "   'NetChange': None,\n",
       "   'Absolute_Change_OI': None,\n",
       "   'Open_Interest': None,\n",
       "   'Ula_Code': 'SENSEX',\n",
       "   'End_TimeStamp': '19 May 2023',\n",
       "   'Product_Type': 'Index Option',\n",
       "   'p_Series_Code': 'SENSEX2351960600PE',\n",
       "   'SCRIP_ID': 'BSX',\n",
       "   'C_SCRIP_ID': 'BSX',\n",
       "   'comapny_name': 'SENSEX              ',\n",
       "   'C_comapny_name': 'SENSEX              ',\n",
       "   'UlaValue': 62345.71},\n",
       "  {'C_Series_Code': 'SENSEX2351960700CE',\n",
       "   'C_Open_Interest': None,\n",
       "   'C_Absolute_Change_OI': None,\n",
       "   'C_Last_Trd_Price': None,\n",
       "   'C_NetChange': None,\n",
       "   'C_Vol_Traded': None,\n",
       "   'C_BIdQty': None,\n",
       "   'C_BidPrice': None,\n",
       "   'C_OfferPrice': None,\n",
       "   'C_OfferQty': None,\n",
       "   'C_Series_Id': 873606,\n",
       "   'Strike_Price': 60700.0,\n",
       "   'ScriP_cd': 1,\n",
       "   'Series_Id': 871332,\n",
       "   'BIdQty': None,\n",
       "   'BidPrice': None,\n",
       "   'OfferPrice': None,\n",
       "   'OfferQty': None,\n",
       "   'Vol_Traded': None,\n",
       "   'Last_Trd_Price': None,\n",
       "   'NetChange': None,\n",
       "   'Absolute_Change_OI': None,\n",
       "   'Open_Interest': None,\n",
       "   'Ula_Code': 'SENSEX',\n",
       "   'End_TimeStamp': '19 May 2023',\n",
       "   'Product_Type': 'Index Option',\n",
       "   'p_Series_Code': 'SENSEX2351960700PE',\n",
       "   'SCRIP_ID': 'BSX',\n",
       "   'C_SCRIP_ID': 'BSX',\n",
       "   'comapny_name': 'SENSEX              ',\n",
       "   'C_comapny_name': 'SENSEX              ',\n",
       "   'UlaValue': 62345.71},\n",
       "  {'C_Series_Code': 'SENSEX2351960800CE',\n",
       "   'C_Open_Interest': None,\n",
       "   'C_Absolute_Change_OI': None,\n",
       "   'C_Last_Trd_Price': None,\n",
       "   'C_NetChange': None,\n",
       "   'C_Vol_Traded': None,\n",
       "   'C_BIdQty': None,\n",
       "   'C_BidPrice': None,\n",
       "   'C_OfferPrice': None,\n",
       "   'C_OfferQty': None,\n",
       "   'C_Series_Id': 871511,\n",
       "   'Strike_Price': 60800.0,\n",
       "   'ScriP_cd': 1,\n",
       "   'Series_Id': 871903,\n",
       "   'BIdQty': None,\n",
       "   'BidPrice': None,\n",
       "   'OfferPrice': None,\n",
       "   'OfferQty': None,\n",
       "   'Vol_Traded': None,\n",
       "   'Last_Trd_Price': None,\n",
       "   'NetChange': None,\n",
       "   'Absolute_Change_OI': None,\n",
       "   'Open_Interest': None,\n",
       "   'Ula_Code': 'SENSEX',\n",
       "   'End_TimeStamp': '19 May 2023',\n",
       "   'Product_Type': 'Index Option',\n",
       "   'p_Series_Code': 'SENSEX2351960800PE',\n",
       "   'SCRIP_ID': 'BSX',\n",
       "   'C_SCRIP_ID': 'BSX',\n",
       "   'comapny_name': 'SENSEX              ',\n",
       "   'C_comapny_name': 'SENSEX              ',\n",
       "   'UlaValue': 62345.71},\n",
       "  {'C_Series_Code': 'SENSEX2351960900CE',\n",
       "   'C_Open_Interest': None,\n",
       "   'C_Absolute_Change_OI': None,\n",
       "   'C_Last_Trd_Price': None,\n",
       "   'C_NetChange': None,\n",
       "   'C_Vol_Traded': None,\n",
       "   'C_BIdQty': None,\n",
       "   'C_BidPrice': None,\n",
       "   'C_OfferPrice': None,\n",
       "   'C_OfferQty': None,\n",
       "   'C_Series_Id': 871037,\n",
       "   'Strike_Price': 60900.0,\n",
       "   'ScriP_cd': 1,\n",
       "   'Series_Id': 871451,\n",
       "   'BIdQty': None,\n",
       "   'BidPrice': None,\n",
       "   'OfferPrice': None,\n",
       "   'OfferQty': None,\n",
       "   'Vol_Traded': None,\n",
       "   'Last_Trd_Price': None,\n",
       "   'NetChange': None,\n",
       "   'Absolute_Change_OI': None,\n",
       "   'Open_Interest': None,\n",
       "   'Ula_Code': 'SENSEX',\n",
       "   'End_TimeStamp': '19 May 2023',\n",
       "   'Product_Type': 'Index Option',\n",
       "   'p_Series_Code': 'SENSEX2351960900PE',\n",
       "   'SCRIP_ID': 'BSX',\n",
       "   'C_SCRIP_ID': 'BSX',\n",
       "   'comapny_name': 'SENSEX              ',\n",
       "   'C_comapny_name': 'SENSEX              ',\n",
       "   'UlaValue': 62345.71},\n",
       "  {'C_Series_Code': 'SENSEX2351961000CE',\n",
       "   'C_Open_Interest': None,\n",
       "   'C_Absolute_Change_OI': None,\n",
       "   'C_Last_Trd_Price': None,\n",
       "   'C_NetChange': None,\n",
       "   'C_Vol_Traded': None,\n",
       "   'C_BIdQty': None,\n",
       "   'C_BidPrice': None,\n",
       "   'C_OfferPrice': None,\n",
       "   'C_OfferQty': None,\n",
       "   'C_Series_Id': 872158,\n",
       "   'Strike_Price': 61000.0,\n",
       "   'ScriP_cd': 1,\n",
       "   'Series_Id': 872559,\n",
       "   'BIdQty': None,\n",
       "   'BidPrice': None,\n",
       "   'OfferPrice': None,\n",
       "   'OfferQty': None,\n",
       "   'Vol_Traded': None,\n",
       "   'Last_Trd_Price': None,\n",
       "   'NetChange': None,\n",
       "   'Absolute_Change_OI': None,\n",
       "   'Open_Interest': None,\n",
       "   'Ula_Code': 'SENSEX',\n",
       "   'End_TimeStamp': '19 May 2023',\n",
       "   'Product_Type': 'Index Option',\n",
       "   'p_Series_Code': 'SENSEX2351961000PE',\n",
       "   'SCRIP_ID': 'BSX',\n",
       "   'C_SCRIP_ID': 'BSX',\n",
       "   'comapny_name': 'SENSEX              ',\n",
       "   'C_comapny_name': 'SENSEX              ',\n",
       "   'UlaValue': 62345.71},\n",
       "  {'C_Series_Code': 'SENSEX2351961100CE',\n",
       "   'C_Open_Interest': None,\n",
       "   'C_Absolute_Change_OI': None,\n",
       "   'C_Last_Trd_Price': None,\n",
       "   'C_NetChange': None,\n",
       "   'C_Vol_Traded': None,\n",
       "   'C_BIdQty': None,\n",
       "   'C_BidPrice': None,\n",
       "   'C_OfferPrice': None,\n",
       "   'C_OfferQty': None,\n",
       "   'C_Series_Id': 873187,\n",
       "   'Strike_Price': 61100.0,\n",
       "   'ScriP_cd': 1,\n",
       "   'Series_Id': 871251,\n",
       "   'BIdQty': None,\n",
       "   'BidPrice': None,\n",
       "   'OfferPrice': None,\n",
       "   'OfferQty': None,\n",
       "   'Vol_Traded': None,\n",
       "   'Last_Trd_Price': None,\n",
       "   'NetChange': None,\n",
       "   'Absolute_Change_OI': None,\n",
       "   'Open_Interest': None,\n",
       "   'Ula_Code': 'SENSEX',\n",
       "   'End_TimeStamp': '19 May 2023',\n",
       "   'Product_Type': 'Index Option',\n",
       "   'p_Series_Code': 'SENSEX2351961100PE',\n",
       "   'SCRIP_ID': 'BSX',\n",
       "   'C_SCRIP_ID': 'BSX',\n",
       "   'comapny_name': 'SENSEX              ',\n",
       "   'C_comapny_name': 'SENSEX              ',\n",
       "   'UlaValue': 62345.71},\n",
       "  {'C_Series_Code': 'SENSEX2351961200CE',\n",
       "   'C_Open_Interest': None,\n",
       "   'C_Absolute_Change_OI': None,\n",
       "   'C_Last_Trd_Price': None,\n",
       "   'C_NetChange': None,\n",
       "   'C_Vol_Traded': None,\n",
       "   'C_BIdQty': None,\n",
       "   'C_BidPrice': None,\n",
       "   'C_OfferPrice': None,\n",
       "   'C_OfferQty': None,\n",
       "   'C_Series_Id': 872273,\n",
       "   'Strike_Price': 61200.0,\n",
       "   'ScriP_cd': 1,\n",
       "   'Series_Id': 872881,\n",
       "   'BIdQty': None,\n",
       "   'BidPrice': None,\n",
       "   'OfferPrice': None,\n",
       "   'OfferQty': None,\n",
       "   'Vol_Traded': None,\n",
       "   'Last_Trd_Price': None,\n",
       "   'NetChange': None,\n",
       "   'Absolute_Change_OI': None,\n",
       "   'Open_Interest': None,\n",
       "   'Ula_Code': 'SENSEX',\n",
       "   'End_TimeStamp': '19 May 2023',\n",
       "   'Product_Type': 'Index Option',\n",
       "   'p_Series_Code': 'SENSEX2351961200PE',\n",
       "   'SCRIP_ID': 'BSX',\n",
       "   'C_SCRIP_ID': 'BSX',\n",
       "   'comapny_name': 'SENSEX              ',\n",
       "   'C_comapny_name': 'SENSEX              ',\n",
       "   'UlaValue': 62345.71},\n",
       "  {'C_Series_Code': 'SENSEX2351961300CE',\n",
       "   'C_Open_Interest': None,\n",
       "   'C_Absolute_Change_OI': None,\n",
       "   'C_Last_Trd_Price': None,\n",
       "   'C_NetChange': None,\n",
       "   'C_Vol_Traded': None,\n",
       "   'C_BIdQty': None,\n",
       "   'C_BidPrice': None,\n",
       "   'C_OfferPrice': None,\n",
       "   'C_OfferQty': None,\n",
       "   'C_Series_Id': 873847,\n",
       "   'Strike_Price': 61300.0,\n",
       "   'ScriP_cd': 1,\n",
       "   'Series_Id': 872213,\n",
       "   'BIdQty': None,\n",
       "   'BidPrice': None,\n",
       "   'OfferPrice': None,\n",
       "   'OfferQty': None,\n",
       "   'Vol_Traded': None,\n",
       "   'Last_Trd_Price': None,\n",
       "   'NetChange': None,\n",
       "   'Absolute_Change_OI': None,\n",
       "   'Open_Interest': None,\n",
       "   'Ula_Code': 'SENSEX',\n",
       "   'End_TimeStamp': '19 May 2023',\n",
       "   'Product_Type': 'Index Option',\n",
       "   'p_Series_Code': 'SENSEX2351961300PE',\n",
       "   'SCRIP_ID': 'BSX',\n",
       "   'C_SCRIP_ID': 'BSX',\n",
       "   'comapny_name': 'SENSEX              ',\n",
       "   'C_comapny_name': 'SENSEX              ',\n",
       "   'UlaValue': 62345.71},\n",
       "  {'C_Series_Code': 'SENSEX2351961400CE',\n",
       "   'C_Open_Interest': None,\n",
       "   'C_Absolute_Change_OI': None,\n",
       "   'C_Last_Trd_Price': None,\n",
       "   'C_NetChange': None,\n",
       "   'C_Vol_Traded': None,\n",
       "   'C_BIdQty': None,\n",
       "   'C_BidPrice': None,\n",
       "   'C_OfferPrice': None,\n",
       "   'C_OfferQty': None,\n",
       "   'C_Series_Id': 872403,\n",
       "   'Strike_Price': 61400.0,\n",
       "   'ScriP_cd': 1,\n",
       "   'Series_Id': 873451,\n",
       "   'BIdQty': None,\n",
       "   'BidPrice': None,\n",
       "   'OfferPrice': None,\n",
       "   'OfferQty': None,\n",
       "   'Vol_Traded': None,\n",
       "   'Last_Trd_Price': None,\n",
       "   'NetChange': None,\n",
       "   'Absolute_Change_OI': None,\n",
       "   'Open_Interest': None,\n",
       "   'Ula_Code': 'SENSEX',\n",
       "   'End_TimeStamp': '19 May 2023',\n",
       "   'Product_Type': 'Index Option',\n",
       "   'p_Series_Code': 'SENSEX2351961400PE',\n",
       "   'SCRIP_ID': 'BSX',\n",
       "   'C_SCRIP_ID': 'BSX',\n",
       "   'comapny_name': 'SENSEX              ',\n",
       "   'C_comapny_name': 'SENSEX              ',\n",
       "   'UlaValue': 62345.71},\n",
       "  {'C_Series_Code': 'SENSEX2351961500CE',\n",
       "   'C_Open_Interest': None,\n",
       "   'C_Absolute_Change_OI': None,\n",
       "   'C_Last_Trd_Price': None,\n",
       "   'C_NetChange': None,\n",
       "   'C_Vol_Traded': None,\n",
       "   'C_BIdQty': None,\n",
       "   'C_BidPrice': None,\n",
       "   'C_OfferPrice': None,\n",
       "   'C_OfferQty': None,\n",
       "   'C_Series_Id': 871920,\n",
       "   'Strike_Price': 61500.0,\n",
       "   'ScriP_cd': 1,\n",
       "   'Series_Id': 872332,\n",
       "   'BIdQty': None,\n",
       "   'BidPrice': None,\n",
       "   'OfferPrice': None,\n",
       "   'OfferQty': None,\n",
       "   'Vol_Traded': 300,\n",
       "   'Last_Trd_Price': 65.5,\n",
       "   'NetChange': -99.65,\n",
       "   'Absolute_Change_OI': 0,\n",
       "   'Open_Interest': 150,\n",
       "   'Ula_Code': 'SENSEX',\n",
       "   'End_TimeStamp': '19 May 2023',\n",
       "   'Product_Type': 'Index Option',\n",
       "   'p_Series_Code': 'SENSEX2351961500PE',\n",
       "   'SCRIP_ID': 'BSX',\n",
       "   'C_SCRIP_ID': 'BSX',\n",
       "   'comapny_name': 'SENSEX              ',\n",
       "   'C_comapny_name': 'SENSEX              ',\n",
       "   'UlaValue': 62345.71},\n",
       "  {'C_Series_Code': 'SENSEX2351961600CE',\n",
       "   'C_Open_Interest': None,\n",
       "   'C_Absolute_Change_OI': None,\n",
       "   'C_Last_Trd_Price': None,\n",
       "   'C_NetChange': None,\n",
       "   'C_Vol_Traded': None,\n",
       "   'C_BIdQty': None,\n",
       "   'C_BidPrice': None,\n",
       "   'C_OfferPrice': None,\n",
       "   'C_OfferQty': None,\n",
       "   'C_Series_Id': 872524,\n",
       "   'Strike_Price': 61600.0,\n",
       "   'ScriP_cd': 1,\n",
       "   'Series_Id': 871013,\n",
       "   'BIdQty': None,\n",
       "   'BidPrice': None,\n",
       "   'OfferPrice': None,\n",
       "   'OfferQty': None,\n",
       "   'Vol_Traded': 270,\n",
       "   'Last_Trd_Price': 62.3,\n",
       "   'NetChange': -132.5,\n",
       "   'Absolute_Change_OI': 0,\n",
       "   'Open_Interest': 120,\n",
       "   'Ula_Code': 'SENSEX',\n",
       "   'End_TimeStamp': '19 May 2023',\n",
       "   'Product_Type': 'Index Option',\n",
       "   'p_Series_Code': 'SENSEX2351961600PE',\n",
       "   'SCRIP_ID': 'BSX',\n",
       "   'C_SCRIP_ID': 'BSX',\n",
       "   'comapny_name': 'SENSEX              ',\n",
       "   'C_comapny_name': 'SENSEX              ',\n",
       "   'UlaValue': 62345.71},\n",
       "  {'C_Series_Code': 'SENSEX2351961700CE',\n",
       "   'C_Open_Interest': None,\n",
       "   'C_Absolute_Change_OI': None,\n",
       "   'C_Last_Trd_Price': None,\n",
       "   'C_NetChange': None,\n",
       "   'C_Vol_Traded': None,\n",
       "   'C_BIdQty': None,\n",
       "   'C_BidPrice': None,\n",
       "   'C_OfferPrice': None,\n",
       "   'C_OfferQty': None,\n",
       "   'C_Series_Id': 872053,\n",
       "   'Strike_Price': 61700.0,\n",
       "   'ScriP_cd': 1,\n",
       "   'Series_Id': 872467,\n",
       "   'BIdQty': None,\n",
       "   'BidPrice': None,\n",
       "   'OfferPrice': None,\n",
       "   'OfferQty': None,\n",
       "   'Vol_Traded': 120,\n",
       "   'Last_Trd_Price': 70.75,\n",
       "   'NetChange': -157.45,\n",
       "   'Absolute_Change_OI': 0,\n",
       "   'Open_Interest': 40,\n",
       "   'Ula_Code': 'SENSEX',\n",
       "   'End_TimeStamp': '19 May 2023',\n",
       "   'Product_Type': 'Index Option',\n",
       "   'p_Series_Code': 'SENSEX2351961700PE',\n",
       "   'SCRIP_ID': 'BSX',\n",
       "   'C_SCRIP_ID': 'BSX',\n",
       "   'comapny_name': 'SENSEX              ',\n",
       "   'C_comapny_name': 'SENSEX              ',\n",
       "   'UlaValue': 62345.71},\n",
       "  {'C_Series_Code': 'SENSEX2351961800CE',\n",
       "   'C_Open_Interest': None,\n",
       "   'C_Absolute_Change_OI': None,\n",
       "   'C_Last_Trd_Price': None,\n",
       "   'C_NetChange': None,\n",
       "   'C_Vol_Traded': None,\n",
       "   'C_BIdQty': None,\n",
       "   'C_BidPrice': None,\n",
       "   'C_OfferPrice': None,\n",
       "   'C_OfferQty': None,\n",
       "   'C_Series_Id': 872747,\n",
       "   'Strike_Price': 61800.0,\n",
       "   'ScriP_cd': 1,\n",
       "   'Series_Id': 871128,\n",
       "   'BIdQty': None,\n",
       "   'BidPrice': None,\n",
       "   'OfferPrice': None,\n",
       "   'OfferQty': None,\n",
       "   'Vol_Traded': 130,\n",
       "   'Last_Trd_Price': 94.6,\n",
       "   'NetChange': -170.8,\n",
       "   'Absolute_Change_OI': 0,\n",
       "   'Open_Interest': 90,\n",
       "   'Ula_Code': 'SENSEX',\n",
       "   'End_TimeStamp': '19 May 2023',\n",
       "   'Product_Type': 'Index Option',\n",
       "   'p_Series_Code': 'SENSEX2351961800PE',\n",
       "   'SCRIP_ID': 'BSX',\n",
       "   'C_SCRIP_ID': 'BSX',\n",
       "   'comapny_name': 'SENSEX              ',\n",
       "   'C_comapny_name': 'SENSEX              ',\n",
       "   'UlaValue': 62345.71},\n",
       "  {'C_Series_Code': 'SENSEX2351961900CE',\n",
       "   'C_Open_Interest': None,\n",
       "   'C_Absolute_Change_OI': None,\n",
       "   'C_Last_Trd_Price': None,\n",
       "   'C_NetChange': None,\n",
       "   'C_Vol_Traded': None,\n",
       "   'C_BIdQty': None,\n",
       "   'C_BidPrice': None,\n",
       "   'C_OfferPrice': None,\n",
       "   'C_OfferQty': None,\n",
       "   'C_Series_Id': 872168,\n",
       "   'Strike_Price': 61900.0,\n",
       "   'ScriP_cd': 1,\n",
       "   'Series_Id': 872573,\n",
       "   'BIdQty': None,\n",
       "   'BidPrice': None,\n",
       "   'OfferPrice': None,\n",
       "   'OfferQty': None,\n",
       "   'Vol_Traded': None,\n",
       "   'Last_Trd_Price': None,\n",
       "   'NetChange': None,\n",
       "   'Absolute_Change_OI': None,\n",
       "   'Open_Interest': None,\n",
       "   'Ula_Code': 'SENSEX',\n",
       "   'End_TimeStamp': '19 May 2023',\n",
       "   'Product_Type': 'Index Option',\n",
       "   'p_Series_Code': 'SENSEX2351961900PE',\n",
       "   'SCRIP_ID': 'BSX',\n",
       "   'C_SCRIP_ID': 'BSX',\n",
       "   'comapny_name': 'SENSEX              ',\n",
       "   'C_comapny_name': 'SENSEX              ',\n",
       "   'UlaValue': 62345.71},\n",
       "  {'C_Series_Code': 'SENSEX2351962000CE',\n",
       "   'C_Open_Interest': None,\n",
       "   'C_Absolute_Change_OI': None,\n",
       "   'C_Last_Trd_Price': None,\n",
       "   'C_NetChange': None,\n",
       "   'C_Vol_Traded': None,\n",
       "   'C_BIdQty': None,\n",
       "   'C_BidPrice': None,\n",
       "   'C_OfferPrice': None,\n",
       "   'C_OfferQty': None,\n",
       "   'C_Series_Id': 871379,\n",
       "   'Strike_Price': 62000.0,\n",
       "   'ScriP_cd': 1,\n",
       "   'Series_Id': 871766,\n",
       "   'BIdQty': None,\n",
       "   'BidPrice': None,\n",
       "   'OfferPrice': None,\n",
       "   'OfferQty': None,\n",
       "   'Vol_Traded': 100,\n",
       "   'Last_Trd_Price': 162.0,\n",
       "   'NetChange': -189.75,\n",
       "   'Absolute_Change_OI': 0,\n",
       "   'Open_Interest': 50,\n",
       "   'Ula_Code': 'SENSEX',\n",
       "   'End_TimeStamp': '19 May 2023',\n",
       "   'Product_Type': 'Index Option',\n",
       "   'p_Series_Code': 'SENSEX2351962000PE',\n",
       "   'SCRIP_ID': 'BSX',\n",
       "   'C_SCRIP_ID': 'BSX',\n",
       "   'comapny_name': 'SENSEX              ',\n",
       "   'C_comapny_name': 'SENSEX              ',\n",
       "   'UlaValue': 62345.71},\n",
       "  {'C_Series_Code': 'SENSEX2351962100CE',\n",
       "   'C_Open_Interest': None,\n",
       "   'C_Absolute_Change_OI': None,\n",
       "   'C_Last_Trd_Price': None,\n",
       "   'C_NetChange': None,\n",
       "   'C_Vol_Traded': None,\n",
       "   'C_BIdQty': None,\n",
       "   'C_BidPrice': None,\n",
       "   'C_OfferPrice': None,\n",
       "   'C_OfferQty': None,\n",
       "   'C_Series_Id': 871962,\n",
       "   'Strike_Price': 62100.0,\n",
       "   'ScriP_cd': 1,\n",
       "   'Series_Id': 871321,\n",
       "   'BIdQty': None,\n",
       "   'BidPrice': None,\n",
       "   'OfferPrice': None,\n",
       "   'OfferQty': None,\n",
       "   'Vol_Traded': None,\n",
       "   'Last_Trd_Price': None,\n",
       "   'NetChange': None,\n",
       "   'Absolute_Change_OI': None,\n",
       "   'Open_Interest': None,\n",
       "   'Ula_Code': 'SENSEX',\n",
       "   'End_TimeStamp': '19 May 2023',\n",
       "   'Product_Type': 'Index Option',\n",
       "   'p_Series_Code': 'SENSEX2351962100PE',\n",
       "   'SCRIP_ID': 'BSX',\n",
       "   'C_SCRIP_ID': 'BSX',\n",
       "   'comapny_name': 'SENSEX              ',\n",
       "   'C_comapny_name': 'SENSEX              ',\n",
       "   'UlaValue': 62345.71},\n",
       "  {'C_Series_Code': 'SENSEX2351962200CE',\n",
       "   'C_Open_Interest': None,\n",
       "   'C_Absolute_Change_OI': None,\n",
       "   'C_Last_Trd_Price': None,\n",
       "   'C_NetChange': None,\n",
       "   'C_Vol_Traded': None,\n",
       "   'C_BIdQty': None,\n",
       "   'C_BidPrice': None,\n",
       "   'C_OfferPrice': None,\n",
       "   'C_OfferQty': None,\n",
       "   'C_Series_Id': 871496,\n",
       "   'Strike_Price': 62200.0,\n",
       "   'ScriP_cd': 1,\n",
       "   'Series_Id': 871883,\n",
       "   'BIdQty': None,\n",
       "   'BidPrice': None,\n",
       "   'OfferPrice': None,\n",
       "   'OfferQty': None,\n",
       "   'Vol_Traded': None,\n",
       "   'Last_Trd_Price': None,\n",
       "   'NetChange': None,\n",
       "   'Absolute_Change_OI': None,\n",
       "   'Open_Interest': None,\n",
       "   'Ula_Code': 'SENSEX',\n",
       "   'End_TimeStamp': '19 May 2023',\n",
       "   'Product_Type': 'Index Option',\n",
       "   'p_Series_Code': 'SENSEX2351962200PE',\n",
       "   'SCRIP_ID': 'BSX',\n",
       "   'C_SCRIP_ID': 'BSX',\n",
       "   'comapny_name': 'SENSEX              ',\n",
       "   'C_comapny_name': 'SENSEX              ',\n",
       "   'UlaValue': 62345.71},\n",
       "  {'C_Series_Code': 'SENSEX2351962300CE',\n",
       "   'C_Open_Interest': None,\n",
       "   'C_Absolute_Change_OI': None,\n",
       "   'C_Last_Trd_Price': None,\n",
       "   'C_NetChange': None,\n",
       "   'C_Vol_Traded': None,\n",
       "   'C_BIdQty': None,\n",
       "   'C_BidPrice': None,\n",
       "   'C_OfferPrice': None,\n",
       "   'C_OfferQty': None,\n",
       "   'C_Series_Id': 871024,\n",
       "   'Strike_Price': 62300.0,\n",
       "   'ScriP_cd': 1,\n",
       "   'Series_Id': 871438,\n",
       "   'BIdQty': None,\n",
       "   'BidPrice': None,\n",
       "   'OfferPrice': None,\n",
       "   'OfferQty': None,\n",
       "   'Vol_Traded': None,\n",
       "   'Last_Trd_Price': None,\n",
       "   'NetChange': None,\n",
       "   'Absolute_Change_OI': None,\n",
       "   'Open_Interest': None,\n",
       "   'Ula_Code': 'SENSEX',\n",
       "   'End_TimeStamp': '19 May 2023',\n",
       "   'Product_Type': 'Index Option',\n",
       "   'p_Series_Code': 'SENSEX2351962300PE',\n",
       "   'SCRIP_ID': 'BSX',\n",
       "   'C_SCRIP_ID': 'BSX',\n",
       "   'comapny_name': 'SENSEX              ',\n",
       "   'C_comapny_name': 'SENSEX              ',\n",
       "   'UlaValue': 62345.71},\n",
       "  {'C_Series_Code': 'SENSEX2351962400CE',\n",
       "   'C_Open_Interest': None,\n",
       "   'C_Absolute_Change_OI': None,\n",
       "   'C_Last_Trd_Price': None,\n",
       "   'C_NetChange': None,\n",
       "   'C_Vol_Traded': None,\n",
       "   'C_BIdQty': None,\n",
       "   'C_BidPrice': None,\n",
       "   'C_OfferPrice': None,\n",
       "   'C_OfferQty': None,\n",
       "   'C_Series_Id': 871623,\n",
       "   'Strike_Price': 62400.0,\n",
       "   'ScriP_cd': 1,\n",
       "   'Series_Id': 872027,\n",
       "   'BIdQty': None,\n",
       "   'BidPrice': None,\n",
       "   'OfferPrice': None,\n",
       "   'OfferQty': None,\n",
       "   'Vol_Traded': None,\n",
       "   'Last_Trd_Price': None,\n",
       "   'NetChange': None,\n",
       "   'Absolute_Change_OI': None,\n",
       "   'Open_Interest': None,\n",
       "   'Ula_Code': 'SENSEX',\n",
       "   'End_TimeStamp': '19 May 2023',\n",
       "   'Product_Type': 'Index Option',\n",
       "   'p_Series_Code': 'SENSEX2351962400PE',\n",
       "   'SCRIP_ID': 'BSX',\n",
       "   'C_SCRIP_ID': 'BSX',\n",
       "   'comapny_name': 'SENSEX              ',\n",
       "   'C_comapny_name': 'SENSEX              ',\n",
       "   'UlaValue': 62345.71},\n",
       "  {'C_Series_Code': 'SENSEX2351962500CE',\n",
       "   'C_Open_Interest': 350,\n",
       "   'C_Absolute_Change_OI': 0,\n",
       "   'C_Last_Trd_Price': 183.0,\n",
       "   'C_NetChange': -29.65,\n",
       "   'C_Vol_Traded': 530,\n",
       "   'C_BIdQty': None,\n",
       "   'C_BidPrice': None,\n",
       "   'C_OfferPrice': None,\n",
       "   'C_OfferQty': None,\n",
       "   'C_Series_Id': 871145,\n",
       "   'Strike_Price': 62500.0,\n",
       "   'ScriP_cd': 1,\n",
       "   'Series_Id': 871553,\n",
       "   'BIdQty': None,\n",
       "   'BidPrice': None,\n",
       "   'OfferPrice': None,\n",
       "   'OfferQty': None,\n",
       "   'Vol_Traded': 10,\n",
       "   'Last_Trd_Price': 321.4,\n",
       "   'NetChange': -317.15,\n",
       "   'Absolute_Change_OI': 0,\n",
       "   'Open_Interest': 10,\n",
       "   'Ula_Code': 'SENSEX',\n",
       "   'End_TimeStamp': '19 May 2023',\n",
       "   'Product_Type': 'Index Option',\n",
       "   'p_Series_Code': 'SENSEX2351962500PE',\n",
       "   'SCRIP_ID': 'BSX',\n",
       "   'C_SCRIP_ID': 'BSX',\n",
       "   'comapny_name': 'SENSEX              ',\n",
       "   'C_comapny_name': 'SENSEX              ',\n",
       "   'UlaValue': 62345.71},\n",
       "  {'C_Series_Code': 'SENSEX2351962600CE',\n",
       "   'C_Open_Interest': 10,\n",
       "   'C_Absolute_Change_OI': 0,\n",
       "   'C_Last_Trd_Price': 179.7,\n",
       "   'C_NetChange': -1.95,\n",
       "   'C_Vol_Traded': 50,\n",
       "   'C_BIdQty': None,\n",
       "   'C_BidPrice': None,\n",
       "   'C_OfferPrice': None,\n",
       "   'C_OfferQty': None,\n",
       "   'C_Series_Id': 871733,\n",
       "   'Strike_Price': 62600.0,\n",
       "   'ScriP_cd': 1,\n",
       "   'Series_Id': 872147,\n",
       "   'BIdQty': None,\n",
       "   'BidPrice': None,\n",
       "   'OfferPrice': None,\n",
       "   'OfferQty': None,\n",
       "   'Vol_Traded': None,\n",
       "   'Last_Trd_Price': None,\n",
       "   'NetChange': None,\n",
       "   'Absolute_Change_OI': None,\n",
       "   'Open_Interest': None,\n",
       "   'Ula_Code': 'SENSEX',\n",
       "   'End_TimeStamp': '19 May 2023',\n",
       "   'Product_Type': 'Index Option',\n",
       "   'p_Series_Code': 'SENSEX2351962600PE',\n",
       "   'SCRIP_ID': 'BSX',\n",
       "   'C_SCRIP_ID': 'BSX',\n",
       "   'comapny_name': 'SENSEX              ',\n",
       "   'C_comapny_name': 'SENSEX              ',\n",
       "   'UlaValue': 62345.71},\n",
       "  {'C_Series_Code': 'SENSEX2351962700CE',\n",
       "   'C_Open_Interest': 60,\n",
       "   'C_Absolute_Change_OI': 0,\n",
       "   'C_Last_Trd_Price': 140.65,\n",
       "   'C_NetChange': -13.5,\n",
       "   'C_Vol_Traded': 120,\n",
       "   'C_BIdQty': None,\n",
       "   'C_BidPrice': None,\n",
       "   'C_OfferPrice': None,\n",
       "   'C_OfferQty': None,\n",
       "   'C_Series_Id': 871277,\n",
       "   'Strike_Price': 62700.0,\n",
       "   'ScriP_cd': 1,\n",
       "   'Series_Id': 871677,\n",
       "   'BIdQty': None,\n",
       "   'BidPrice': None,\n",
       "   'OfferPrice': None,\n",
       "   'OfferQty': None,\n",
       "   'Vol_Traded': None,\n",
       "   'Last_Trd_Price': None,\n",
       "   'NetChange': None,\n",
       "   'Absolute_Change_OI': None,\n",
       "   'Open_Interest': None,\n",
       "   'Ula_Code': 'SENSEX',\n",
       "   'End_TimeStamp': '19 May 2023',\n",
       "   'Product_Type': 'Index Option',\n",
       "   'p_Series_Code': 'SENSEX2351962700PE',\n",
       "   'SCRIP_ID': 'BSX',\n",
       "   'C_SCRIP_ID': 'BSX',\n",
       "   'comapny_name': 'SENSEX              ',\n",
       "   'C_comapny_name': 'SENSEX              ',\n",
       "   'UlaValue': 62345.71},\n",
       "  {'C_Series_Code': 'SENSEX2351962800CE',\n",
       "   'C_Open_Interest': 70,\n",
       "   'C_Absolute_Change_OI': 0,\n",
       "   'C_Last_Trd_Price': 105.3,\n",
       "   'C_NetChange': -24.65,\n",
       "   'C_Vol_Traded': 110,\n",
       "   'C_BIdQty': None,\n",
       "   'C_BidPrice': None,\n",
       "   'C_OfferPrice': None,\n",
       "   'C_OfferQty': None,\n",
       "   'C_Series_Id': 871845,\n",
       "   'Strike_Price': 62800.0,\n",
       "   'ScriP_cd': 1,\n",
       "   'Series_Id': 871216,\n",
       "   'BIdQty': None,\n",
       "   'BidPrice': None,\n",
       "   'OfferPrice': None,\n",
       "   'OfferQty': None,\n",
       "   'Vol_Traded': None,\n",
       "   'Last_Trd_Price': None,\n",
       "   'NetChange': None,\n",
       "   'Absolute_Change_OI': None,\n",
       "   'Open_Interest': None,\n",
       "   'Ula_Code': 'SENSEX',\n",
       "   'End_TimeStamp': '19 May 2023',\n",
       "   'Product_Type': 'Index Option',\n",
       "   'p_Series_Code': 'SENSEX2351962800PE',\n",
       "   'SCRIP_ID': 'BSX',\n",
       "   'C_SCRIP_ID': 'BSX',\n",
       "   'comapny_name': 'SENSEX              ',\n",
       "   'C_comapny_name': 'SENSEX              ',\n",
       "   'UlaValue': 62345.71},\n",
       "  {'C_Series_Code': 'SENSEX2351962900CE',\n",
       "   'C_Open_Interest': None,\n",
       "   'C_Absolute_Change_OI': None,\n",
       "   'C_Last_Trd_Price': None,\n",
       "   'C_NetChange': None,\n",
       "   'C_Vol_Traded': None,\n",
       "   'C_BIdQty': None,\n",
       "   'C_BidPrice': None,\n",
       "   'C_OfferPrice': None,\n",
       "   'C_OfferQty': None,\n",
       "   'C_Series_Id': 871393,\n",
       "   'Strike_Price': 62900.0,\n",
       "   'ScriP_cd': 1,\n",
       "   'Series_Id': 871786,\n",
       "   'BIdQty': None,\n",
       "   'BidPrice': None,\n",
       "   'OfferPrice': None,\n",
       "   'OfferQty': None,\n",
       "   'Vol_Traded': None,\n",
       "   'Last_Trd_Price': None,\n",
       "   'NetChange': None,\n",
       "   'Absolute_Change_OI': None,\n",
       "   'Open_Interest': None,\n",
       "   'Ula_Code': 'SENSEX',\n",
       "   'End_TimeStamp': '19 May 2023',\n",
       "   'Product_Type': 'Index Option',\n",
       "   'p_Series_Code': 'SENSEX2351962900PE',\n",
       "   'SCRIP_ID': 'BSX',\n",
       "   'C_SCRIP_ID': 'BSX',\n",
       "   'comapny_name': 'SENSEX              ',\n",
       "   'C_comapny_name': 'SENSEX              ',\n",
       "   'UlaValue': 62345.71},\n",
       "  {'C_Series_Code': 'SENSEX2351963000CE',\n",
       "   'C_Open_Interest': 250,\n",
       "   'C_Absolute_Change_OI': 0,\n",
       "   'C_Last_Trd_Price': 45.1,\n",
       "   'C_NetChange': -45.35,\n",
       "   'C_Vol_Traded': 840,\n",
       "   'C_BIdQty': None,\n",
       "   'C_BidPrice': None,\n",
       "   'C_OfferPrice': None,\n",
       "   'C_OfferQty': None,\n",
       "   'C_Series_Id': 872510,\n",
       "   'Strike_Price': 63000.0,\n",
       "   'ScriP_cd': 1,\n",
       "   'Series_Id': 874140,\n",
       "   'BIdQty': None,\n",
       "   'BidPrice': None,\n",
       "   'OfferPrice': None,\n",
       "   'OfferQty': None,\n",
       "   'Vol_Traded': None,\n",
       "   'Last_Trd_Price': None,\n",
       "   'NetChange': None,\n",
       "   'Absolute_Change_OI': None,\n",
       "   'Open_Interest': None,\n",
       "   'Ula_Code': 'SENSEX',\n",
       "   'End_TimeStamp': '19 May 2023',\n",
       "   'Product_Type': 'Index Option',\n",
       "   'p_Series_Code': 'SENSEX2351963000PE',\n",
       "   'SCRIP_ID': 'BSX',\n",
       "   'C_SCRIP_ID': 'BSX',\n",
       "   'comapny_name': 'SENSEX              ',\n",
       "   'C_comapny_name': 'SENSEX              ',\n",
       "   'UlaValue': 62345.71},\n",
       "  {'C_Series_Code': 'SENSEX2351963100CE',\n",
       "   'C_Open_Interest': None,\n",
       "   'C_Absolute_Change_OI': None,\n",
       "   'C_Last_Trd_Price': None,\n",
       "   'C_NetChange': None,\n",
       "   'C_Vol_Traded': None,\n",
       "   'C_BIdQty': None,\n",
       "   'C_BidPrice': None,\n",
       "   'C_OfferPrice': None,\n",
       "   'C_OfferQty': None,\n",
       "   'C_Series_Id': 872041,\n",
       "   'Strike_Price': 63100.0,\n",
       "   'ScriP_cd': 1,\n",
       "   'Series_Id': 872455,\n",
       "   'BIdQty': None,\n",
       "   'BidPrice': None,\n",
       "   'OfferPrice': None,\n",
       "   'OfferQty': None,\n",
       "   'Vol_Traded': None,\n",
       "   'Last_Trd_Price': None,\n",
       "   'NetChange': None,\n",
       "   'Absolute_Change_OI': None,\n",
       "   'Open_Interest': None,\n",
       "   'Ula_Code': 'SENSEX',\n",
       "   'End_TimeStamp': '19 May 2023',\n",
       "   'Product_Type': 'Index Option',\n",
       "   'p_Series_Code': 'SENSEX2351963100PE',\n",
       "   'SCRIP_ID': 'BSX',\n",
       "   'C_SCRIP_ID': 'BSX',\n",
       "   'comapny_name': 'SENSEX              ',\n",
       "   'C_comapny_name': 'SENSEX              ',\n",
       "   'UlaValue': 62345.71},\n",
       "  {'C_Series_Code': 'SENSEX2351963200CE',\n",
       "   'C_Open_Interest': None,\n",
       "   'C_Absolute_Change_OI': None,\n",
       "   'C_Last_Trd_Price': None,\n",
       "   'C_NetChange': None,\n",
       "   'C_Vol_Traded': None,\n",
       "   'C_BIdQty': None,\n",
       "   'C_BidPrice': None,\n",
       "   'C_OfferPrice': None,\n",
       "   'C_OfferQty': None,\n",
       "   'C_Series_Id': 872678,\n",
       "   'Strike_Price': 63200.0,\n",
       "   'ScriP_cd': 1,\n",
       "   'Series_Id': 871110,\n",
       "   'BIdQty': None,\n",
       "   'BidPrice': None,\n",
       "   'OfferPrice': None,\n",
       "   'OfferQty': None,\n",
       "   'Vol_Traded': None,\n",
       "   'Last_Trd_Price': None,\n",
       "   'NetChange': None,\n",
       "   'Absolute_Change_OI': None,\n",
       "   'Open_Interest': None,\n",
       "   'Ula_Code': 'SENSEX',\n",
       "   'End_TimeStamp': '19 May 2023',\n",
       "   'Product_Type': 'Index Option',\n",
       "   'p_Series_Code': 'SENSEX2351963200PE',\n",
       "   'SCRIP_ID': 'BSX',\n",
       "   'C_SCRIP_ID': 'BSX',\n",
       "   'comapny_name': 'SENSEX              ',\n",
       "   'C_comapny_name': 'SENSEX              ',\n",
       "   'UlaValue': 62345.71},\n",
       "  {'C_Series_Code': 'SENSEX2351963300CE',\n",
       "   'C_Open_Interest': None,\n",
       "   'C_Absolute_Change_OI': None,\n",
       "   'C_Last_Trd_Price': None,\n",
       "   'C_NetChange': None,\n",
       "   'C_Vol_Traded': None,\n",
       "   'C_BIdQty': None,\n",
       "   'C_BidPrice': None,\n",
       "   'C_OfferPrice': None,\n",
       "   'C_OfferQty': None,\n",
       "   'C_Series_Id': 872160,\n",
       "   'Strike_Price': 63300.0,\n",
       "   'ScriP_cd': 1,\n",
       "   'Series_Id': 872560,\n",
       "   'BIdQty': None,\n",
       "   'BidPrice': None,\n",
       "   'OfferPrice': None,\n",
       "   'OfferQty': None,\n",
       "   'Vol_Traded': None,\n",
       "   'Last_Trd_Price': None,\n",
       "   'NetChange': None,\n",
       "   'Absolute_Change_OI': None,\n",
       "   'Open_Interest': None,\n",
       "   'Ula_Code': 'SENSEX',\n",
       "   'End_TimeStamp': '19 May 2023',\n",
       "   'Product_Type': 'Index Option',\n",
       "   'p_Series_Code': 'SENSEX2351963300PE',\n",
       "   'SCRIP_ID': 'BSX',\n",
       "   'C_SCRIP_ID': 'BSX',\n",
       "   'comapny_name': 'SENSEX              ',\n",
       "   'C_comapny_name': 'SENSEX              ',\n",
       "   'UlaValue': 62345.71},\n",
       "  {'C_Series_Code': 'SENSEX2351963400CE',\n",
       "   'C_Open_Interest': None,\n",
       "   'C_Absolute_Change_OI': None,\n",
       "   'C_Last_Trd_Price': None,\n",
       "   'C_NetChange': None,\n",
       "   'C_Vol_Traded': None,\n",
       "   'C_BIdQty': None,\n",
       "   'C_BidPrice': None,\n",
       "   'C_OfferPrice': None,\n",
       "   'C_OfferQty': None,\n",
       "   'C_Series_Id': 873206,\n",
       "   'Strike_Price': 63400.0,\n",
       "   'ScriP_cd': 1,\n",
       "   'Series_Id': 872097,\n",
       "   'BIdQty': None,\n",
       "   'BidPrice': None,\n",
       "   'OfferPrice': None,\n",
       "   'OfferQty': None,\n",
       "   'Vol_Traded': None,\n",
       "   'Last_Trd_Price': None,\n",
       "   'NetChange': None,\n",
       "   'Absolute_Change_OI': None,\n",
       "   'Open_Interest': None,\n",
       "   'Ula_Code': 'SENSEX',\n",
       "   'End_TimeStamp': '19 May 2023',\n",
       "   'Product_Type': 'Index Option',\n",
       "   'p_Series_Code': 'SENSEX2351963400PE',\n",
       "   'SCRIP_ID': 'BSX',\n",
       "   'C_SCRIP_ID': 'BSX',\n",
       "   'comapny_name': 'SENSEX              ',\n",
       "   'C_comapny_name': 'SENSEX              ',\n",
       "   'UlaValue': 62345.71},\n",
       "  {'C_Series_Code': 'SENSEX2351963500CE',\n",
       "   'C_Open_Interest': None,\n",
       "   'C_Absolute_Change_OI': None,\n",
       "   'C_Last_Trd_Price': None,\n",
       "   'C_NetChange': None,\n",
       "   'C_Vol_Traded': None,\n",
       "   'C_BIdQty': None,\n",
       "   'C_BidPrice': None,\n",
       "   'C_OfferPrice': None,\n",
       "   'C_OfferQty': None,\n",
       "   'C_Series_Id': 872275,\n",
       "   'Strike_Price': 63500.0,\n",
       "   'ScriP_cd': 1,\n",
       "   'Series_Id': 872883,\n",
       "   'BIdQty': None,\n",
       "   'BidPrice': None,\n",
       "   'OfferPrice': None,\n",
       "   'OfferQty': None,\n",
       "   'Vol_Traded': None,\n",
       "   'Last_Trd_Price': None,\n",
       "   'NetChange': None,\n",
       "   'Absolute_Change_OI': None,\n",
       "   'Open_Interest': None,\n",
       "   'Ula_Code': 'SENSEX',\n",
       "   'End_TimeStamp': '19 May 2023',\n",
       "   'Product_Type': 'Index Option',\n",
       "   'p_Series_Code': 'SENSEX2351963500PE',\n",
       "   'SCRIP_ID': 'BSX',\n",
       "   'C_SCRIP_ID': 'BSX',\n",
       "   'comapny_name': 'SENSEX              ',\n",
       "   'C_comapny_name': 'SENSEX              ',\n",
       "   'UlaValue': 62345.71},\n",
       "  {'C_Series_Code': 'SENSEX2351963600CE',\n",
       "   'C_Open_Interest': None,\n",
       "   'C_Absolute_Change_OI': None,\n",
       "   'C_Last_Trd_Price': None,\n",
       "   'C_NetChange': None,\n",
       "   'C_Vol_Traded': None,\n",
       "   'C_BIdQty': None,\n",
       "   'C_BidPrice': None,\n",
       "   'C_OfferPrice': None,\n",
       "   'C_OfferQty': None,\n",
       "   'C_Series_Id': 873855,\n",
       "   'Strike_Price': 63600.0,\n",
       "   'ScriP_cd': 1,\n",
       "   'Series_Id': 872215,\n",
       "   'BIdQty': None,\n",
       "   'BidPrice': None,\n",
       "   'OfferPrice': None,\n",
       "   'OfferQty': None,\n",
       "   'Vol_Traded': None,\n",
       "   'Last_Trd_Price': None,\n",
       "   'NetChange': None,\n",
       "   'Absolute_Change_OI': None,\n",
       "   'Open_Interest': None,\n",
       "   'Ula_Code': 'SENSEX',\n",
       "   'End_TimeStamp': '19 May 2023',\n",
       "   'Product_Type': 'Index Option',\n",
       "   'p_Series_Code': 'SENSEX2351963600PE',\n",
       "   'SCRIP_ID': 'BSX',\n",
       "   'C_SCRIP_ID': 'BSX',\n",
       "   'comapny_name': 'SENSEX              ',\n",
       "   'C_comapny_name': 'SENSEX              ',\n",
       "   'UlaValue': 62345.71},\n",
       "  {'C_Series_Code': 'SENSEX2351963700CE',\n",
       "   'C_Open_Interest': None,\n",
       "   'C_Absolute_Change_OI': None,\n",
       "   'C_Last_Trd_Price': None,\n",
       "   'C_NetChange': None,\n",
       "   'C_Vol_Traded': None,\n",
       "   'C_BIdQty': None,\n",
       "   'C_BidPrice': None,\n",
       "   'C_OfferPrice': None,\n",
       "   'C_OfferQty': None,\n",
       "   'C_Series_Id': 872404,\n",
       "   'Strike_Price': 63700.0,\n",
       "   'ScriP_cd': 1,\n",
       "   'Series_Id': 873454,\n",
       "   'BIdQty': None,\n",
       "   'BidPrice': None,\n",
       "   'OfferPrice': None,\n",
       "   'OfferQty': None,\n",
       "   'Vol_Traded': None,\n",
       "   'Last_Trd_Price': None,\n",
       "   'NetChange': None,\n",
       "   'Absolute_Change_OI': None,\n",
       "   'Open_Interest': None,\n",
       "   'Ula_Code': 'SENSEX',\n",
       "   'End_TimeStamp': '19 May 2023',\n",
       "   'Product_Type': 'Index Option',\n",
       "   'p_Series_Code': 'SENSEX2351963700PE',\n",
       "   'SCRIP_ID': 'BSX',\n",
       "   'C_SCRIP_ID': 'BSX',\n",
       "   'comapny_name': 'SENSEX              ',\n",
       "   'C_comapny_name': 'SENSEX              ',\n",
       "   'UlaValue': 62345.71},\n",
       "  {'C_Series_Code': 'SENSEX2351963800CE',\n",
       "   'C_Open_Interest': None,\n",
       "   'C_Absolute_Change_OI': None,\n",
       "   'C_Last_Trd_Price': None,\n",
       "   'C_NetChange': None,\n",
       "   'C_Vol_Traded': None,\n",
       "   'C_BIdQty': None,\n",
       "   'C_BidPrice': None,\n",
       "   'C_OfferPrice': None,\n",
       "   'C_OfferQty': None,\n",
       "   'C_Series_Id': 871922,\n",
       "   'Strike_Price': 63800.0,\n",
       "   'ScriP_cd': 1,\n",
       "   'Series_Id': 872334,\n",
       "   'BIdQty': None,\n",
       "   'BidPrice': None,\n",
       "   'OfferPrice': None,\n",
       "   'OfferQty': None,\n",
       "   'Vol_Traded': None,\n",
       "   'Last_Trd_Price': None,\n",
       "   'NetChange': None,\n",
       "   'Absolute_Change_OI': None,\n",
       "   'Open_Interest': None,\n",
       "   'Ula_Code': 'SENSEX',\n",
       "   'End_TimeStamp': '19 May 2023',\n",
       "   'Product_Type': 'Index Option',\n",
       "   'p_Series_Code': 'SENSEX2351963800PE',\n",
       "   'SCRIP_ID': 'BSX',\n",
       "   'C_SCRIP_ID': 'BSX',\n",
       "   'comapny_name': 'SENSEX              ',\n",
       "   'C_comapny_name': 'SENSEX              ',\n",
       "   'UlaValue': 62345.71},\n",
       "  {'C_Series_Code': 'SENSEX2351963900CE',\n",
       "   'C_Open_Interest': None,\n",
       "   'C_Absolute_Change_OI': None,\n",
       "   'C_Last_Trd_Price': None,\n",
       "   'C_NetChange': None,\n",
       "   'C_Vol_Traded': None,\n",
       "   'C_BIdQty': None,\n",
       "   'C_BidPrice': None,\n",
       "   'C_OfferPrice': None,\n",
       "   'C_OfferQty': None,\n",
       "   'C_Series_Id': 872526,\n",
       "   'Strike_Price': 63900.0,\n",
       "   'ScriP_cd': 1,\n",
       "   'Series_Id': 871014,\n",
       "   'BIdQty': None,\n",
       "   'BidPrice': None,\n",
       "   'OfferPrice': None,\n",
       "   'OfferQty': None,\n",
       "   'Vol_Traded': None,\n",
       "   'Last_Trd_Price': None,\n",
       "   'NetChange': None,\n",
       "   'Absolute_Change_OI': None,\n",
       "   'Open_Interest': None,\n",
       "   'Ula_Code': 'SENSEX',\n",
       "   'End_TimeStamp': '19 May 2023',\n",
       "   'Product_Type': 'Index Option',\n",
       "   'p_Series_Code': 'SENSEX2351963900PE',\n",
       "   'SCRIP_ID': 'BSX',\n",
       "   'C_SCRIP_ID': 'BSX',\n",
       "   'comapny_name': 'SENSEX              ',\n",
       "   'C_comapny_name': 'SENSEX              ',\n",
       "   'UlaValue': 62345.71},\n",
       "  {'C_Series_Code': 'SENSEX2351964000CE',\n",
       "   'C_Open_Interest': 10,\n",
       "   'C_Absolute_Change_OI': 0,\n",
       "   'C_Last_Trd_Price': 10.0,\n",
       "   'C_NetChange': 0.45,\n",
       "   'C_Vol_Traded': 10,\n",
       "   'C_BIdQty': None,\n",
       "   'C_BidPrice': None,\n",
       "   'C_OfferPrice': None,\n",
       "   'C_OfferQty': None,\n",
       "   'C_Series_Id': 871720,\n",
       "   'Strike_Price': 64000.0,\n",
       "   'ScriP_cd': 1,\n",
       "   'Series_Id': 872130,\n",
       "   'BIdQty': None,\n",
       "   'BidPrice': None,\n",
       "   'OfferPrice': None,\n",
       "   'OfferQty': None,\n",
       "   'Vol_Traded': None,\n",
       "   'Last_Trd_Price': None,\n",
       "   'NetChange': None,\n",
       "   'Absolute_Change_OI': None,\n",
       "   'Open_Interest': None,\n",
       "   'Ula_Code': 'SENSEX',\n",
       "   'End_TimeStamp': '19 May 2023',\n",
       "   'Product_Type': 'Index Option',\n",
       "   'p_Series_Code': 'SENSEX2351964000PE',\n",
       "   'SCRIP_ID': 'BSX',\n",
       "   'C_SCRIP_ID': 'BSX',\n",
       "   'comapny_name': 'SENSEX              ',\n",
       "   'C_comapny_name': 'SENSEX              ',\n",
       "   'UlaValue': 62345.71}],\n",
       " 'ASON': [{'DT_TM': '2023-05-15T18:46:24'}]}"
      ]
     },
     "execution_count": 126,
     "metadata": {},
     "output_type": "execute_result"
    }
   ],
   "source": [
    "option_chain.json()"
   ]
  },
  {
   "cell_type": "code",
   "execution_count": 127,
   "id": "036187a7-7874-4a5a-8043-825530fc27db",
   "metadata": {
    "tags": []
   },
   "outputs": [
    {
     "data": {
      "application/vnd.plotly.v1+json": {
       "config": {
        "plotlyServerURL": "https://plot.ly"
       },
       "data": [
        {
         "name": "Call Open Interest",
         "type": "bar",
         "x": [
          60000,
          60100,
          60200,
          60300,
          60400,
          60500,
          60600,
          60700,
          60800,
          60900,
          61000,
          61100,
          61200,
          61300,
          61400,
          61500,
          61600,
          61700,
          61800,
          61900,
          62000,
          62100,
          62200,
          62300,
          62400,
          62500,
          62600,
          62700,
          62800,
          62900,
          63000,
          63100,
          63200,
          63300,
          63400,
          63500,
          63600,
          63700,
          63800,
          63900,
          64000
         ],
         "y": [
          null,
          null,
          null,
          null,
          null,
          null,
          null,
          null,
          null,
          null,
          null,
          null,
          null,
          null,
          null,
          null,
          null,
          null,
          null,
          null,
          null,
          null,
          null,
          null,
          null,
          350,
          10,
          60,
          70,
          null,
          250,
          null,
          null,
          null,
          null,
          null,
          null,
          null,
          null,
          null,
          10
         ]
        },
        {
         "name": "Put Open Interest",
         "type": "bar",
         "x": [
          60000,
          60100,
          60200,
          60300,
          60400,
          60500,
          60600,
          60700,
          60800,
          60900,
          61000,
          61100,
          61200,
          61300,
          61400,
          61500,
          61600,
          61700,
          61800,
          61900,
          62000,
          62100,
          62200,
          62300,
          62400,
          62500,
          62600,
          62700,
          62800,
          62900,
          63000,
          63100,
          63200,
          63300,
          63400,
          63500,
          63600,
          63700,
          63800,
          63900,
          64000
         ],
         "y": [
          null,
          null,
          null,
          null,
          null,
          null,
          null,
          null,
          null,
          null,
          null,
          null,
          null,
          null,
          null,
          150,
          120,
          40,
          90,
          null,
          50,
          null,
          null,
          null,
          null,
          10,
          null,
          null,
          null,
          null,
          null,
          null,
          null,
          null,
          null,
          null,
          null,
          null,
          null,
          null,
          null
         ]
        },
        {
         "mode": "lines+markers",
         "name": "Call LTP",
         "type": "scatter",
         "visible": "legendonly",
         "x": [
          60000,
          60100,
          60200,
          60300,
          60400,
          60500,
          60600,
          60700,
          60800,
          60900,
          61000,
          61100,
          61200,
          61300,
          61400,
          61500,
          61600,
          61700,
          61800,
          61900,
          62000,
          62100,
          62200,
          62300,
          62400,
          62500,
          62600,
          62700,
          62800,
          62900,
          63000,
          63100,
          63200,
          63300,
          63400,
          63500,
          63600,
          63700,
          63800,
          63900,
          64000
         ],
         "y": [
          null,
          null,
          null,
          null,
          null,
          null,
          null,
          null,
          null,
          null,
          null,
          null,
          null,
          null,
          null,
          null,
          null,
          null,
          null,
          null,
          null,
          null,
          null,
          null,
          null,
          183,
          179.7,
          140.65,
          105.3,
          null,
          45.1,
          null,
          null,
          null,
          null,
          null,
          null,
          null,
          null,
          null,
          10
         ]
        },
        {
         "mode": "lines+markers",
         "name": "Put LTP",
         "type": "scatter",
         "visible": "legendonly",
         "x": [
          60000,
          60100,
          60200,
          60300,
          60400,
          60500,
          60600,
          60700,
          60800,
          60900,
          61000,
          61100,
          61200,
          61300,
          61400,
          61500,
          61600,
          61700,
          61800,
          61900,
          62000,
          62100,
          62200,
          62300,
          62400,
          62500,
          62600,
          62700,
          62800,
          62900,
          63000,
          63100,
          63200,
          63300,
          63400,
          63500,
          63600,
          63700,
          63800,
          63900,
          64000
         ],
         "y": [
          null,
          null,
          null,
          null,
          null,
          null,
          null,
          null,
          null,
          null,
          null,
          null,
          null,
          null,
          null,
          65.5,
          62.3,
          70.75,
          94.6,
          null,
          162,
          null,
          null,
          null,
          null,
          321.4,
          null,
          null,
          null,
          null,
          null,
          null,
          null,
          null,
          null,
          null,
          null,
          null,
          null,
          null,
          null
         ]
        }
       ],
       "layout": {
        "autosize": true,
        "barmode": "group",
        "template": {
         "data": {
          "bar": [
           {
            "error_x": {
             "color": "#2a3f5f"
            },
            "error_y": {
             "color": "#2a3f5f"
            },
            "marker": {
             "line": {
              "color": "#E5ECF6",
              "width": 0.5
             },
             "pattern": {
              "fillmode": "overlay",
              "size": 10,
              "solidity": 0.2
             }
            },
            "type": "bar"
           }
          ],
          "barpolar": [
           {
            "marker": {
             "line": {
              "color": "#E5ECF6",
              "width": 0.5
             },
             "pattern": {
              "fillmode": "overlay",
              "size": 10,
              "solidity": 0.2
             }
            },
            "type": "barpolar"
           }
          ],
          "carpet": [
           {
            "aaxis": {
             "endlinecolor": "#2a3f5f",
             "gridcolor": "white",
             "linecolor": "white",
             "minorgridcolor": "white",
             "startlinecolor": "#2a3f5f"
            },
            "baxis": {
             "endlinecolor": "#2a3f5f",
             "gridcolor": "white",
             "linecolor": "white",
             "minorgridcolor": "white",
             "startlinecolor": "#2a3f5f"
            },
            "type": "carpet"
           }
          ],
          "choropleth": [
           {
            "colorbar": {
             "outlinewidth": 0,
             "ticks": ""
            },
            "type": "choropleth"
           }
          ],
          "contour": [
           {
            "colorbar": {
             "outlinewidth": 0,
             "ticks": ""
            },
            "colorscale": [
             [
              0,
              "#0d0887"
             ],
             [
              0.1111111111111111,
              "#46039f"
             ],
             [
              0.2222222222222222,
              "#7201a8"
             ],
             [
              0.3333333333333333,
              "#9c179e"
             ],
             [
              0.4444444444444444,
              "#bd3786"
             ],
             [
              0.5555555555555556,
              "#d8576b"
             ],
             [
              0.6666666666666666,
              "#ed7953"
             ],
             [
              0.7777777777777778,
              "#fb9f3a"
             ],
             [
              0.8888888888888888,
              "#fdca26"
             ],
             [
              1,
              "#f0f921"
             ]
            ],
            "type": "contour"
           }
          ],
          "contourcarpet": [
           {
            "colorbar": {
             "outlinewidth": 0,
             "ticks": ""
            },
            "type": "contourcarpet"
           }
          ],
          "heatmap": [
           {
            "colorbar": {
             "outlinewidth": 0,
             "ticks": ""
            },
            "colorscale": [
             [
              0,
              "#0d0887"
             ],
             [
              0.1111111111111111,
              "#46039f"
             ],
             [
              0.2222222222222222,
              "#7201a8"
             ],
             [
              0.3333333333333333,
              "#9c179e"
             ],
             [
              0.4444444444444444,
              "#bd3786"
             ],
             [
              0.5555555555555556,
              "#d8576b"
             ],
             [
              0.6666666666666666,
              "#ed7953"
             ],
             [
              0.7777777777777778,
              "#fb9f3a"
             ],
             [
              0.8888888888888888,
              "#fdca26"
             ],
             [
              1,
              "#f0f921"
             ]
            ],
            "type": "heatmap"
           }
          ],
          "heatmapgl": [
           {
            "colorbar": {
             "outlinewidth": 0,
             "ticks": ""
            },
            "colorscale": [
             [
              0,
              "#0d0887"
             ],
             [
              0.1111111111111111,
              "#46039f"
             ],
             [
              0.2222222222222222,
              "#7201a8"
             ],
             [
              0.3333333333333333,
              "#9c179e"
             ],
             [
              0.4444444444444444,
              "#bd3786"
             ],
             [
              0.5555555555555556,
              "#d8576b"
             ],
             [
              0.6666666666666666,
              "#ed7953"
             ],
             [
              0.7777777777777778,
              "#fb9f3a"
             ],
             [
              0.8888888888888888,
              "#fdca26"
             ],
             [
              1,
              "#f0f921"
             ]
            ],
            "type": "heatmapgl"
           }
          ],
          "histogram": [
           {
            "marker": {
             "pattern": {
              "fillmode": "overlay",
              "size": 10,
              "solidity": 0.2
             }
            },
            "type": "histogram"
           }
          ],
          "histogram2d": [
           {
            "colorbar": {
             "outlinewidth": 0,
             "ticks": ""
            },
            "colorscale": [
             [
              0,
              "#0d0887"
             ],
             [
              0.1111111111111111,
              "#46039f"
             ],
             [
              0.2222222222222222,
              "#7201a8"
             ],
             [
              0.3333333333333333,
              "#9c179e"
             ],
             [
              0.4444444444444444,
              "#bd3786"
             ],
             [
              0.5555555555555556,
              "#d8576b"
             ],
             [
              0.6666666666666666,
              "#ed7953"
             ],
             [
              0.7777777777777778,
              "#fb9f3a"
             ],
             [
              0.8888888888888888,
              "#fdca26"
             ],
             [
              1,
              "#f0f921"
             ]
            ],
            "type": "histogram2d"
           }
          ],
          "histogram2dcontour": [
           {
            "colorbar": {
             "outlinewidth": 0,
             "ticks": ""
            },
            "colorscale": [
             [
              0,
              "#0d0887"
             ],
             [
              0.1111111111111111,
              "#46039f"
             ],
             [
              0.2222222222222222,
              "#7201a8"
             ],
             [
              0.3333333333333333,
              "#9c179e"
             ],
             [
              0.4444444444444444,
              "#bd3786"
             ],
             [
              0.5555555555555556,
              "#d8576b"
             ],
             [
              0.6666666666666666,
              "#ed7953"
             ],
             [
              0.7777777777777778,
              "#fb9f3a"
             ],
             [
              0.8888888888888888,
              "#fdca26"
             ],
             [
              1,
              "#f0f921"
             ]
            ],
            "type": "histogram2dcontour"
           }
          ],
          "mesh3d": [
           {
            "colorbar": {
             "outlinewidth": 0,
             "ticks": ""
            },
            "type": "mesh3d"
           }
          ],
          "parcoords": [
           {
            "line": {
             "colorbar": {
              "outlinewidth": 0,
              "ticks": ""
             }
            },
            "type": "parcoords"
           }
          ],
          "pie": [
           {
            "automargin": true,
            "type": "pie"
           }
          ],
          "scatter": [
           {
            "fillpattern": {
             "fillmode": "overlay",
             "size": 10,
             "solidity": 0.2
            },
            "type": "scatter"
           }
          ],
          "scatter3d": [
           {
            "line": {
             "colorbar": {
              "outlinewidth": 0,
              "ticks": ""
             }
            },
            "marker": {
             "colorbar": {
              "outlinewidth": 0,
              "ticks": ""
             }
            },
            "type": "scatter3d"
           }
          ],
          "scattercarpet": [
           {
            "marker": {
             "colorbar": {
              "outlinewidth": 0,
              "ticks": ""
             }
            },
            "type": "scattercarpet"
           }
          ],
          "scattergeo": [
           {
            "marker": {
             "colorbar": {
              "outlinewidth": 0,
              "ticks": ""
             }
            },
            "type": "scattergeo"
           }
          ],
          "scattergl": [
           {
            "marker": {
             "colorbar": {
              "outlinewidth": 0,
              "ticks": ""
             }
            },
            "type": "scattergl"
           }
          ],
          "scattermapbox": [
           {
            "marker": {
             "colorbar": {
              "outlinewidth": 0,
              "ticks": ""
             }
            },
            "type": "scattermapbox"
           }
          ],
          "scatterpolar": [
           {
            "marker": {
             "colorbar": {
              "outlinewidth": 0,
              "ticks": ""
             }
            },
            "type": "scatterpolar"
           }
          ],
          "scatterpolargl": [
           {
            "marker": {
             "colorbar": {
              "outlinewidth": 0,
              "ticks": ""
             }
            },
            "type": "scatterpolargl"
           }
          ],
          "scatterternary": [
           {
            "marker": {
             "colorbar": {
              "outlinewidth": 0,
              "ticks": ""
             }
            },
            "type": "scatterternary"
           }
          ],
          "surface": [
           {
            "colorbar": {
             "outlinewidth": 0,
             "ticks": ""
            },
            "colorscale": [
             [
              0,
              "#0d0887"
             ],
             [
              0.1111111111111111,
              "#46039f"
             ],
             [
              0.2222222222222222,
              "#7201a8"
             ],
             [
              0.3333333333333333,
              "#9c179e"
             ],
             [
              0.4444444444444444,
              "#bd3786"
             ],
             [
              0.5555555555555556,
              "#d8576b"
             ],
             [
              0.6666666666666666,
              "#ed7953"
             ],
             [
              0.7777777777777778,
              "#fb9f3a"
             ],
             [
              0.8888888888888888,
              "#fdca26"
             ],
             [
              1,
              "#f0f921"
             ]
            ],
            "type": "surface"
           }
          ],
          "table": [
           {
            "cells": {
             "fill": {
              "color": "#EBF0F8"
             },
             "line": {
              "color": "white"
             }
            },
            "header": {
             "fill": {
              "color": "#C8D4E3"
             },
             "line": {
              "color": "white"
             }
            },
            "type": "table"
           }
          ]
         },
         "layout": {
          "annotationdefaults": {
           "arrowcolor": "#2a3f5f",
           "arrowhead": 0,
           "arrowwidth": 1
          },
          "autotypenumbers": "strict",
          "coloraxis": {
           "colorbar": {
            "outlinewidth": 0,
            "ticks": ""
           }
          },
          "colorscale": {
           "diverging": [
            [
             0,
             "#8e0152"
            ],
            [
             0.1,
             "#c51b7d"
            ],
            [
             0.2,
             "#de77ae"
            ],
            [
             0.3,
             "#f1b6da"
            ],
            [
             0.4,
             "#fde0ef"
            ],
            [
             0.5,
             "#f7f7f7"
            ],
            [
             0.6,
             "#e6f5d0"
            ],
            [
             0.7,
             "#b8e186"
            ],
            [
             0.8,
             "#7fbc41"
            ],
            [
             0.9,
             "#4d9221"
            ],
            [
             1,
             "#276419"
            ]
           ],
           "sequential": [
            [
             0,
             "#0d0887"
            ],
            [
             0.1111111111111111,
             "#46039f"
            ],
            [
             0.2222222222222222,
             "#7201a8"
            ],
            [
             0.3333333333333333,
             "#9c179e"
            ],
            [
             0.4444444444444444,
             "#bd3786"
            ],
            [
             0.5555555555555556,
             "#d8576b"
            ],
            [
             0.6666666666666666,
             "#ed7953"
            ],
            [
             0.7777777777777778,
             "#fb9f3a"
            ],
            [
             0.8888888888888888,
             "#fdca26"
            ],
            [
             1,
             "#f0f921"
            ]
           ],
           "sequentialminus": [
            [
             0,
             "#0d0887"
            ],
            [
             0.1111111111111111,
             "#46039f"
            ],
            [
             0.2222222222222222,
             "#7201a8"
            ],
            [
             0.3333333333333333,
             "#9c179e"
            ],
            [
             0.4444444444444444,
             "#bd3786"
            ],
            [
             0.5555555555555556,
             "#d8576b"
            ],
            [
             0.6666666666666666,
             "#ed7953"
            ],
            [
             0.7777777777777778,
             "#fb9f3a"
            ],
            [
             0.8888888888888888,
             "#fdca26"
            ],
            [
             1,
             "#f0f921"
            ]
           ]
          },
          "colorway": [
           "#636efa",
           "#EF553B",
           "#00cc96",
           "#ab63fa",
           "#FFA15A",
           "#19d3f3",
           "#FF6692",
           "#B6E880",
           "#FF97FF",
           "#FECB52"
          ],
          "font": {
           "color": "#2a3f5f"
          },
          "geo": {
           "bgcolor": "white",
           "lakecolor": "white",
           "landcolor": "#E5ECF6",
           "showlakes": true,
           "showland": true,
           "subunitcolor": "white"
          },
          "hoverlabel": {
           "align": "left"
          },
          "hovermode": "closest",
          "mapbox": {
           "style": "light"
          },
          "paper_bgcolor": "white",
          "plot_bgcolor": "#E5ECF6",
          "polar": {
           "angularaxis": {
            "gridcolor": "white",
            "linecolor": "white",
            "ticks": ""
           },
           "bgcolor": "#E5ECF6",
           "radialaxis": {
            "gridcolor": "white",
            "linecolor": "white",
            "ticks": ""
           }
          },
          "scene": {
           "xaxis": {
            "backgroundcolor": "#E5ECF6",
            "gridcolor": "white",
            "gridwidth": 2,
            "linecolor": "white",
            "showbackground": true,
            "ticks": "",
            "zerolinecolor": "white"
           },
           "yaxis": {
            "backgroundcolor": "#E5ECF6",
            "gridcolor": "white",
            "gridwidth": 2,
            "linecolor": "white",
            "showbackground": true,
            "ticks": "",
            "zerolinecolor": "white"
           },
           "zaxis": {
            "backgroundcolor": "#E5ECF6",
            "gridcolor": "white",
            "gridwidth": 2,
            "linecolor": "white",
            "showbackground": true,
            "ticks": "",
            "zerolinecolor": "white"
           }
          },
          "shapedefaults": {
           "line": {
            "color": "#2a3f5f"
           }
          },
          "ternary": {
           "aaxis": {
            "gridcolor": "white",
            "linecolor": "white",
            "ticks": ""
           },
           "baxis": {
            "gridcolor": "white",
            "linecolor": "white",
            "ticks": ""
           },
           "bgcolor": "#E5ECF6",
           "caxis": {
            "gridcolor": "white",
            "linecolor": "white",
            "ticks": ""
           }
          },
          "title": {
           "x": 0.05
          },
          "xaxis": {
           "automargin": true,
           "gridcolor": "white",
           "linecolor": "white",
           "ticks": "",
           "title": {
            "standoff": 15
           },
           "zerolinecolor": "white",
           "zerolinewidth": 2
          },
          "yaxis": {
           "automargin": true,
           "gridcolor": "white",
           "linecolor": "white",
           "ticks": "",
           "title": {
            "standoff": 15
           },
           "zerolinecolor": "white",
           "zerolinewidth": 2
          }
         }
        },
        "xaxis": {
         "autorange": true,
         "range": [
          59950,
          64050
         ],
         "type": "linear"
        },
        "yaxis": {
         "autorange": true,
         "range": [
          0,
          368.42105263157896
         ],
         "type": "linear"
        }
       }
      },
      "image/png": "[encoded data removed]",
      "text/html": [
       "<div>                            <div id=\"471943af-85cc-4d08-b365-6af5edf55e84\" class=\"plotly-graph-div\" style=\"height:525px; width:100%;\"></div>            <script type=\"text/javascript\">                require([\"plotly\"], function(Plotly) {                    window.PLOTLYENV=window.PLOTLYENV || {};                                    if (document.getElementById(\"471943af-85cc-4d08-b365-6af5edf55e84\")) {                    Plotly.newPlot(                        \"471943af-85cc-4d08-b365-6af5edf55e84\",                        [{\"name\":\"Call Open Interest\",\"x\":[60000.0,60100.0,60200.0,60300.0,60400.0,60500.0,60600.0,60700.0,60800.0,60900.0,61000.0,61100.0,61200.0,61300.0,61400.0,61500.0,61600.0,61700.0,61800.0,61900.0,62000.0,62100.0,62200.0,62300.0,62400.0,62500.0,62600.0,62700.0,62800.0,62900.0,63000.0,63100.0,63200.0,63300.0,63400.0,63500.0,63600.0,63700.0,63800.0,63900.0,64000.0],\"y\":[null,null,null,null,null,null,null,null,null,null,null,null,null,null,null,null,null,null,null,null,null,null,null,null,null,350,10,60,70,null,250,null,null,null,null,null,null,null,null,null,10],\"type\":\"bar\"},{\"name\":\"Put Open Interest\",\"x\":[60000.0,60100.0,60200.0,60300.0,60400.0,60500.0,60600.0,60700.0,60800.0,60900.0,61000.0,61100.0,61200.0,61300.0,61400.0,61500.0,61600.0,61700.0,61800.0,61900.0,62000.0,62100.0,62200.0,62300.0,62400.0,62500.0,62600.0,62700.0,62800.0,62900.0,63000.0,63100.0,63200.0,63300.0,63400.0,63500.0,63600.0,63700.0,63800.0,63900.0,64000.0],\"y\":[null,null,null,null,null,null,null,null,null,null,null,null,null,null,null,150,120,40,90,null,50,null,null,null,null,10,null,null,null,null,null,null,null,null,null,null,null,null,null,null,null],\"type\":\"bar\"},{\"mode\":\"lines+markers\",\"name\":\"Call LTP\",\"x\":[60000.0,60100.0,60200.0,60300.0,60400.0,60500.0,60600.0,60700.0,60800.0,60900.0,61000.0,61100.0,61200.0,61300.0,61400.0,61500.0,61600.0,61700.0,61800.0,61900.0,62000.0,62100.0,62200.0,62300.0,62400.0,62500.0,62600.0,62700.0,62800.0,62900.0,63000.0,63100.0,63200.0,63300.0,63400.0,63500.0,63600.0,63700.0,63800.0,63900.0,64000.0],\"y\":[null,null,null,null,null,null,null,null,null,null,null,null,null,null,null,null,null,null,null,null,null,null,null,null,null,183.0,179.7,140.65,105.3,null,45.1,null,null,null,null,null,null,null,null,null,10.0],\"type\":\"scatter\"},{\"mode\":\"lines+markers\",\"name\":\"Put LTP\",\"x\":[60000.0,60100.0,60200.0,60300.0,60400.0,60500.0,60600.0,60700.0,60800.0,60900.0,61000.0,61100.0,61200.0,61300.0,61400.0,61500.0,61600.0,61700.0,61800.0,61900.0,62000.0,62100.0,62200.0,62300.0,62400.0,62500.0,62600.0,62700.0,62800.0,62900.0,63000.0,63100.0,63200.0,63300.0,63400.0,63500.0,63600.0,63700.0,63800.0,63900.0,64000.0],\"y\":[null,null,null,null,null,null,null,null,null,null,null,null,null,null,null,65.5,62.3,70.75,94.6,null,162.0,null,null,null,null,321.4,null,null,null,null,null,null,null,null,null,null,null,null,null,null,null],\"type\":\"scatter\"}],                        {\"template\":{\"data\":{\"histogram2dcontour\":[{\"type\":\"histogram2dcontour\",\"colorbar\":{\"outlinewidth\":0,\"ticks\":\"\"},\"colorscale\":[[0.0,\"#0d0887\"],[0.1111111111111111,\"#46039f\"],[0.2222222222222222,\"#7201a8\"],[0.3333333333333333,\"#9c179e\"],[0.4444444444444444,\"#bd3786\"],[0.5555555555555556,\"#d8576b\"],[0.6666666666666666,\"#ed7953\"],[0.7777777777777778,\"#fb9f3a\"],[0.8888888888888888,\"#fdca26\"],[1.0,\"#f0f921\"]]}],\"choropleth\":[{\"type\":\"choropleth\",\"colorbar\":{\"outlinewidth\":0,\"ticks\":\"\"}}],\"histogram2d\":[{\"type\":\"histogram2d\",\"colorbar\":{\"outlinewidth\":0,\"ticks\":\"\"},\"colorscale\":[[0.0,\"#0d0887\"],[0.1111111111111111,\"#46039f\"],[0.2222222222222222,\"#7201a8\"],[0.3333333333333333,\"#9c179e\"],[0.4444444444444444,\"#bd3786\"],[0.5555555555555556,\"#d8576b\"],[0.6666666666666666,\"#ed7953\"],[0.7777777777777778,\"#fb9f3a\"],[0.8888888888888888,\"#fdca26\"],[1.0,\"#f0f921\"]]}],\"heatmap\":[{\"type\":\"heatmap\",\"colorbar\":{\"outlinewidth\":0,\"ticks\":\"\"},\"colorscale\":[[0.0,\"#0d0887\"],[0.1111111111111111,\"#46039f\"],[0.2222222222222222,\"#7201a8\"],[0.3333333333333333,\"#9c179e\"],[0.4444444444444444,\"#bd3786\"],[0.5555555555555556,\"#d8576b\"],[0.6666666666666666,\"#ed7953\"],[0.7777777777777778,\"#fb9f3a\"],[0.8888888888888888,\"#fdca26\"],[1.0,\"#f0f921\"]]}],\"heatmapgl\":[{\"type\":\"heatmapgl\",\"colorbar\":{\"outlinewidth\":0,\"ticks\":\"\"},\"colorscale\":[[0.0,\"#0d0887\"],[0.1111111111111111,\"#46039f\"],[0.2222222222222222,\"#7201a8\"],[0.3333333333333333,\"#9c179e\"],[0.4444444444444444,\"#bd3786\"],[0.5555555555555556,\"#d8576b\"],[0.6666666666666666,\"#ed7953\"],[0.7777777777777778,\"#fb9f3a\"],[0.8888888888888888,\"#fdca26\"],[1.0,\"#f0f921\"]]}],\"contourcarpet\":[{\"type\":\"contourcarpet\",\"colorbar\":{\"outlinewidth\":0,\"ticks\":\"\"}}],\"contour\":[{\"type\":\"contour\",\"colorbar\":{\"outlinewidth\":0,\"ticks\":\"\"},\"colorscale\":[[0.0,\"#0d0887\"],[0.1111111111111111,\"#46039f\"],[0.2222222222222222,\"#7201a8\"],[0.3333333333333333,\"#9c179e\"],[0.4444444444444444,\"#bd3786\"],[0.5555555555555556,\"#d8576b\"],[0.6666666666666666,\"#ed7953\"],[0.7777777777777778,\"#fb9f3a\"],[0.8888888888888888,\"#fdca26\"],[1.0,\"#f0f921\"]]}],\"surface\":[{\"type\":\"surface\",\"colorbar\":{\"outlinewidth\":0,\"ticks\":\"\"},\"colorscale\":[[0.0,\"#0d0887\"],[0.1111111111111111,\"#46039f\"],[0.2222222222222222,\"#7201a8\"],[0.3333333333333333,\"#9c179e\"],[0.4444444444444444,\"#bd3786\"],[0.5555555555555556,\"#d8576b\"],[0.6666666666666666,\"#ed7953\"],[0.7777777777777778,\"#fb9f3a\"],[0.8888888888888888,\"#fdca26\"],[1.0,\"#f0f921\"]]}],\"mesh3d\":[{\"type\":\"mesh3d\",\"colorbar\":{\"outlinewidth\":0,\"ticks\":\"\"}}],\"scatter\":[{\"fillpattern\":{\"fillmode\":\"overlay\",\"size\":10,\"solidity\":0.2},\"type\":\"scatter\"}],\"parcoords\":[{\"type\":\"parcoords\",\"line\":{\"colorbar\":{\"outlinewidth\":0,\"ticks\":\"\"}}}],\"scatterpolargl\":[{\"type\":\"scatterpolargl\",\"marker\":{\"colorbar\":{\"outlinewidth\":0,\"ticks\":\"\"}}}],\"bar\":[{\"error_x\":{\"color\":\"#2a3f5f\"},\"error_y\":{\"color\":\"#2a3f5f\"},\"marker\":{\"line\":{\"color\":\"#E5ECF6\",\"width\":0.5},\"pattern\":{\"fillmode\":\"overlay\",\"size\":10,\"solidity\":0.2}},\"type\":\"bar\"}],\"scattergeo\":[{\"type\":\"scattergeo\",\"marker\":{\"colorbar\":{\"outlinewidth\":0,\"ticks\":\"\"}}}],\"scatterpolar\":[{\"type\":\"scatterpolar\",\"marker\":{\"colorbar\":{\"outlinewidth\":0,\"ticks\":\"\"}}}],\"histogram\":[{\"marker\":{\"pattern\":{\"fillmode\":\"overlay\",\"size\":10,\"solidity\":0.2}},\"type\":\"histogram\"}],\"scattergl\":[{\"type\":\"scattergl\",\"marker\":{\"colorbar\":{\"outlinewidth\":0,\"ticks\":\"\"}}}],\"scatter3d\":[{\"type\":\"scatter3d\",\"line\":{\"colorbar\":{\"outlinewidth\":0,\"ticks\":\"\"}},\"marker\":{\"colorbar\":{\"outlinewidth\":0,\"ticks\":\"\"}}}],\"scattermapbox\":[{\"type\":\"scattermapbox\",\"marker\":{\"colorbar\":{\"outlinewidth\":0,\"ticks\":\"\"}}}],\"scatterternary\":[{\"type\":\"scatterternary\",\"marker\":{\"colorbar\":{\"outlinewidth\":0,\"ticks\":\"\"}}}],\"scattercarpet\":[{\"type\":\"scattercarpet\",\"marker\":{\"colorbar\":{\"outlinewidth\":0,\"ticks\":\"\"}}}],\"carpet\":[{\"aaxis\":{\"endlinecolor\":\"#2a3f5f\",\"gridcolor\":\"white\",\"linecolor\":\"white\",\"minorgridcolor\":\"white\",\"startlinecolor\":\"#2a3f5f\"},\"baxis\":{\"endlinecolor\":\"#2a3f5f\",\"gridcolor\":\"white\",\"linecolor\":\"white\",\"minorgridcolor\":\"white\",\"startlinecolor\":\"#2a3f5f\"},\"type\":\"carpet\"}],\"table\":[{\"cells\":{\"fill\":{\"color\":\"#EBF0F8\"},\"line\":{\"color\":\"white\"}},\"header\":{\"fill\":{\"color\":\"#C8D4E3\"},\"line\":{\"color\":\"white\"}},\"type\":\"table\"}],\"barpolar\":[{\"marker\":{\"line\":{\"color\":\"#E5ECF6\",\"width\":0.5},\"pattern\":{\"fillmode\":\"overlay\",\"size\":10,\"solidity\":0.2}},\"type\":\"barpolar\"}],\"pie\":[{\"automargin\":true,\"type\":\"pie\"}]},\"layout\":{\"autotypenumbers\":\"strict\",\"colorway\":[\"#636efa\",\"#EF553B\",\"#00cc96\",\"#ab63fa\",\"#FFA15A\",\"#19d3f3\",\"#FF6692\",\"#B6E880\",\"#FF97FF\",\"#FECB52\"],\"font\":{\"color\":\"#2a3f5f\"},\"hovermode\":\"closest\",\"hoverlabel\":{\"align\":\"left\"},\"paper_bgcolor\":\"white\",\"plot_bgcolor\":\"#E5ECF6\",\"polar\":{\"bgcolor\":\"#E5ECF6\",\"angularaxis\":{\"gridcolor\":\"white\",\"linecolor\":\"white\",\"ticks\":\"\"},\"radialaxis\":{\"gridcolor\":\"white\",\"linecolor\":\"white\",\"ticks\":\"\"}},\"ternary\":{\"bgcolor\":\"#E5ECF6\",\"aaxis\":{\"gridcolor\":\"white\",\"linecolor\":\"white\",\"ticks\":\"\"},\"baxis\":{\"gridcolor\":\"white\",\"linecolor\":\"white\",\"ticks\":\"\"},\"caxis\":{\"gridcolor\":\"white\",\"linecolor\":\"white\",\"ticks\":\"\"}},\"coloraxis\":{\"colorbar\":{\"outlinewidth\":0,\"ticks\":\"\"}},\"colorscale\":{\"sequential\":[[0.0,\"#0d0887\"],[0.1111111111111111,\"#46039f\"],[0.2222222222222222,\"#7201a8\"],[0.3333333333333333,\"#9c179e\"],[0.4444444444444444,\"#bd3786\"],[0.5555555555555556,\"#d8576b\"],[0.6666666666666666,\"#ed7953\"],[0.7777777777777778,\"#fb9f3a\"],[0.8888888888888888,\"#fdca26\"],[1.0,\"#f0f921\"]],\"sequentialminus\":[[0.0,\"#0d0887\"],[0.1111111111111111,\"#46039f\"],[0.2222222222222222,\"#7201a8\"],[0.3333333333333333,\"#9c179e\"],[0.4444444444444444,\"#bd3786\"],[0.5555555555555556,\"#d8576b\"],[0.6666666666666666,\"#ed7953\"],[0.7777777777777778,\"#fb9f3a\"],[0.8888888888888888,\"#fdca26\"],[1.0,\"#f0f921\"]],\"diverging\":[[0,\"#8e0152\"],[0.1,\"#c51b7d\"],[0.2,\"#de77ae\"],[0.3,\"#f1b6da\"],[0.4,\"#fde0ef\"],[0.5,\"#f7f7f7\"],[0.6,\"#e6f5d0\"],[0.7,\"#b8e186\"],[0.8,\"#7fbc41\"],[0.9,\"#4d9221\"],[1,\"#276419\"]]},\"xaxis\":{\"gridcolor\":\"white\",\"linecolor\":\"white\",\"ticks\":\"\",\"title\":{\"standoff\":15},\"zerolinecolor\":\"white\",\"automargin\":true,\"zerolinewidth\":2},\"yaxis\":{\"gridcolor\":\"white\",\"linecolor\":\"white\",\"ticks\":\"\",\"title\":{\"standoff\":15},\"zerolinecolor\":\"white\",\"automargin\":true,\"zerolinewidth\":2},\"scene\":{\"xaxis\":{\"backgroundcolor\":\"#E5ECF6\",\"gridcolor\":\"white\",\"linecolor\":\"white\",\"showbackground\":true,\"ticks\":\"\",\"zerolinecolor\":\"white\",\"gridwidth\":2},\"yaxis\":{\"backgroundcolor\":\"#E5ECF6\",\"gridcolor\":\"white\",\"linecolor\":\"white\",\"showbackground\":true,\"ticks\":\"\",\"zerolinecolor\":\"white\",\"gridwidth\":2},\"zaxis\":{\"backgroundcolor\":\"#E5ECF6\",\"gridcolor\":\"white\",\"linecolor\":\"white\",\"showbackground\":true,\"ticks\":\"\",\"zerolinecolor\":\"white\",\"gridwidth\":2}},\"shapedefaults\":{\"line\":{\"color\":\"#2a3f5f\"}},\"annotationdefaults\":{\"arrowcolor\":\"#2a3f5f\",\"arrowhead\":0,\"arrowwidth\":1},\"geo\":{\"bgcolor\":\"white\",\"landcolor\":\"#E5ECF6\",\"subunitcolor\":\"white\",\"showland\":true,\"showlakes\":true,\"lakecolor\":\"white\"},\"title\":{\"x\":0.05},\"mapbox\":{\"style\":\"light\"}}},\"barmode\":\"group\"},                        {\"responsive\": true}                    ).then(function(){\n",
       "                            \n",
       "var gd = document.getElementById('471943af-85cc-4d08-b365-6af5edf55e84');\n",
       "var x = new MutationObserver(function (mutations, observer) {{\n",
       "        var display = window.getComputedStyle(gd).display;\n",
       "        if (!display || display === 'none') {{\n",
       "            console.log([gd, 'removed!']);\n",
       "            Plotly.purge(gd);\n",
       "            observer.disconnect();\n",
       "        }}\n",
       "}});\n",
       "\n",
       "// Listen for the removal of the full notebook cells\n",
       "var notebookContainer = gd.closest('#notebook-container');\n",
       "if (notebookContainer) {{\n",
       "    x.observe(notebookContainer, {childList: true});\n",
       "}}\n",
       "\n",
       "// Listen for the clearing of the current output cell\n",
       "var outputEl = gd.closest('.output');\n",
       "if (outputEl) {{\n",
       "    x.observe(outputEl, {childList: true});\n",
       "}}\n",
       "\n",
       "                        })                };                });            </script>        </div>"
      ]
     },
     "metadata": {},
     "output_type": "display_data"
    }
   ],
   "source": [
    "import plotly.graph_objects as go\n",
    "\n",
    "# assuming df is the dictionary you provided\n",
    "data = data_chain['Table']\n",
    "\n",
    "# extract the data for the x and y axes\n",
    "x = [item['Strike_Price'] for item in data]\n",
    "y1 = [item['C_Open_Interest'] for item in data]\n",
    "y2 = [item['Open_Interest'] for item in data]\n",
    "y3 = [item['C_Last_Trd_Price'] for item in data]\n",
    "y4 = [item['Last_Trd_Price'] for item in data]\n",
    "# create the bar plot\n",
    "fig = go.Figure()\n",
    "fig.add_trace(go.Bar(x=x, y=y1, name='Call Open Interest'))\n",
    "fig.add_trace(go.Bar(x=x, y=y2, name='Put Open Interest'))\n",
    "fig.add_trace(go.Scatter(x=x, y=y3, name='Call LTP', mode='lines+markers'))\n",
    "fig.add_trace(go.Scatter(x=x, y=y4, name='Put LTP', mode='lines+markers'))\n",
    "\n",
    "fig.update_layout(barmode='group')\n",
    "fig.show()"
   ]
  },
  {
   "cell_type": "code",
   "execution_count": 13,
   "id": "8aa1a075-661e-4c19-88d2-1f5da4a05049",
   "metadata": {
    "tags": []
   },
   "outputs": [
    {
     "data": {
      "text/plain": [
       "[{'DT_TM': '2023-05-15T18:46:24'}]"
      ]
     },
     "execution_count": 13,
     "metadata": {},
     "output_type": "execute_result"
    }
   ],
   "source": [
    "response.json()['ASON']"
   ]
  },
  {
   "cell_type": "code",
   "execution_count": 51,
   "id": "c9ee1dfa-78fc-4c6b-8501-615bceacb172",
   "metadata": {
    "collapsed": true,
    "jupyter": {
     "outputs_hidden": true
    },
    "tags": []
   },
   "outputs": [
    {
     "name": "stdout",
     "output_type": "stream",
     "text": [
      "{'Index Futures': {'Select': {'Select': {}, '{{ddl.eXPIRY}}': {}, 'Not Traded': {}}, '{{ddl.UlaCODE}}': {'Select': {}, '{{ddl.eXPIRY}}': {}, 'Not Traded': {}}}, 'Equity Futures': {'Select': {'Select': {}, '{{ddl.eXPIRY}}': {}, 'Not Traded': {}}, '{{ddl.UlaCODE}}': {'Select': {}, '{{ddl.eXPIRY}}': {}, 'Not Traded': {}}}, 'Index Option': {'Select': {'Select': {}, '{{ddl.eXPIRY}}': {}, 'Not Traded': {}}, '{{ddl.UlaCODE}}': {'Select': {}, '{{ddl.eXPIRY}}': {}, 'Not Traded': {}}}, 'Equity Option': {'Select': {'Select': {}, '{{ddl.eXPIRY}}': {}, 'Not Traded': {}}, '{{ddl.UlaCODE}}': {'Select': {}, '{{ddl.eXPIRY}}': {}, 'Not Traded': {}}}, 'IF-Spread': {'Select': {'Select': {}, '{{ddl.eXPIRY}}': {}, 'Not Traded': {}}, '{{ddl.UlaCODE}}': {'Select': {}, '{{ddl.eXPIRY}}': {}, 'Not Traded': {}}}, 'EF-Spread': {'Select': {'Select': {}, '{{ddl.eXPIRY}}': {}, 'Not Traded': {}}, '{{ddl.UlaCODE}}': {'Select': {}, '{{ddl.eXPIRY}}': {}, 'Not Traded': {}}}, 'POC(IO)': {'Select': {'Select': {}, '{{ddl.eXPIRY}}': {}, 'Not Traded': {}}, '{{ddl.UlaCODE}}': {'Select': {}, '{{ddl.eXPIRY}}': {}, 'Not Traded': {}}}, 'POC(SO)': {'Select': {'Select': {}, '{{ddl.eXPIRY}}': {}, 'Not Traded': {}}, '{{ddl.UlaCODE}}': {'Select': {}, '{{ddl.eXPIRY}}': {}, 'Not Traded': {}}}}\n"
     ]
    }
   ],
   "source": [
    "import requests\n",
    "from bs4 import BeautifulSoup\n",
    "\n",
    "url = 'https://www.bseindia.com/markets/Derivatives/DeriReports/DeriOptionchain.html'\n",
    "headers={'User-Agent':'Mozilla/5.0'}\n",
    "sess=requests.Session()\n",
    "response=sess.get('https://www.bseindia.com/', headers=headers, timeout=10)\n",
    "cookies=response.cookies\n",
    "page = sess.get(url, headers=headers, cookies=cookies, timeout=15)\n",
    "soup = BeautifulSoup(page.content, 'html.parser')\n",
    "\n",
    "instrument_spread_type = soup.find('select', {'id': 'ddlInstSprdType'}).find_all('option')\n",
    "underlying_asset = soup.find('select', {'id': 'ddlAsset'}).find_all('option')\n",
    "expiry_date = soup.find('select', {'id': 'ddlexpiry'}).find_all('option')\n",
    "\n",
    "result = {}\n",
    "for instrument in instrument_spread_type:\n",
    "    instrument_text = instrument.text.strip()\n",
    "    result[instrument_text] = {}\n",
    "    for asset in underlying_asset:\n",
    "        asset_text = asset.text.strip()\n",
    "        result[instrument_text][asset_text] = {}\n",
    "        for date in expiry_date:\n",
    "            date_text = date.text.strip()\n",
    "            result[instrument_text][asset_text][date_text] = {}\n",
    "\n",
    "print(result)"
   ]
  },
  {
   "cell_type": "code",
   "execution_count": 32,
   "id": "0a65cc16-2572-42e0-8b05-c7689bb54f15",
   "metadata": {
    "collapsed": true,
    "jupyter": {
     "outputs_hidden": true
    },
    "tags": []
   },
   "outputs": [
    {
     "data": {
      "text/plain": [
       "<RequestsCookieJar[]>"
      ]
     },
     "execution_count": 32,
     "metadata": {},
     "output_type": "execute_result"
    }
   ],
   "source": [
    "cookies"
   ]
  },
  {
   "cell_type": "code",
   "execution_count": 66,
   "id": "1198de75-f601-467f-8573-5aa876f76c1f",
   "metadata": {
    "collapsed": true,
    "jupyter": {
     "outputs_hidden": true
    },
    "tags": []
   },
   "outputs": [
    {
     "name": "stdout",
     "output_type": "stream",
     "text": [
      "[<option value=\"0\">Select</option>, <option ng-repeat=\"ddl in ddlAsset.Table\" value=\"{{ddl.scrip_cd}}\">{{ddl.UlaCODE}}</option>]\n"
     ]
    }
   ],
   "source": [
    "a=soup.find('select', {'id': 'ddlAsset'}).find_all('option')\n",
    "print(a)"
   ]
  },
  {
   "cell_type": "code",
   "execution_count": 96,
   "id": "c2113187-4a07-4f06-9367-53a17cf511e9",
   "metadata": {
    "collapsed": true,
    "jupyter": {
     "outputs_hidden": true
    },
    "tags": []
   },
   "outputs": [
    {
     "name": "stdout",
     "output_type": "stream",
     "text": [
      "{'Index Futures': {'SENSEX': ['19 May 2023', '26 May 2023', '02 Jun 2023', '09 Jun 2023', '16 Jun 2023', '23 Jun 2023', '30 Jun 2023', '28 Jul 2023'], 'BANKEX': ['19 May 2023', '26 May 2023', '02 Jun 2023', '09 Jun 2023', '16 Jun 2023', '23 Jun 2023', '30 Jun 2023', '28 Jul 2023'], 'SX50': ['19 May 2023', '26 May 2023', '02 Jun 2023', '09 Jun 2023', '16 Jun 2023', '23 Jun 2023', '30 Jun 2023', '28 Jul 2023']}, 'Equity Futures': {'SENSEX': ['19 May 2023', '26 May 2023', '02 Jun 2023', '09 Jun 2023', '16 Jun 2023', '23 Jun 2023', '30 Jun 2023', '28 Jul 2023'], 'BANKEX': ['19 May 2023', '26 May 2023', '02 Jun 2023', '09 Jun 2023', '16 Jun 2023', '23 Jun 2023', '30 Jun 2023', '28 Jul 2023'], 'SX50': ['19 May 2023', '26 May 2023', '02 Jun 2023', '09 Jun 2023', '16 Jun 2023', '23 Jun 2023', '30 Jun 2023', '28 Jul 2023']}, 'Index Option': {'SENSEX': ['19 May 2023', '26 May 2023', '02 Jun 2023', '09 Jun 2023', '16 Jun 2023', '23 Jun 2023', '30 Jun 2023', '28 Jul 2023'], 'BANKEX': ['19 May 2023', '26 May 2023', '02 Jun 2023', '09 Jun 2023', '16 Jun 2023', '23 Jun 2023', '30 Jun 2023', '28 Jul 2023'], 'SX50': ['19 May 2023', '26 May 2023', '02 Jun 2023', '09 Jun 2023', '16 Jun 2023', '23 Jun 2023', '30 Jun 2023', '28 Jul 2023']}, 'Equity Option': {'SENSEX': ['19 May 2023', '26 May 2023', '02 Jun 2023', '09 Jun 2023', '16 Jun 2023', '23 Jun 2023', '30 Jun 2023', '28 Jul 2023'], 'BANKEX': ['19 May 2023', '26 May 2023', '02 Jun 2023', '09 Jun 2023', '16 Jun 2023', '23 Jun 2023', '30 Jun 2023', '28 Jul 2023'], 'SX50': ['19 May 2023', '26 May 2023', '02 Jun 2023', '09 Jun 2023', '16 Jun 2023', '23 Jun 2023', '30 Jun 2023', '28 Jul 2023']}, 'IF-Spread': {'SENSEX': ['19 May 2023', '26 May 2023', '02 Jun 2023', '09 Jun 2023', '16 Jun 2023', '23 Jun 2023', '30 Jun 2023', '28 Jul 2023'], 'BANKEX': ['19 May 2023', '26 May 2023', '02 Jun 2023', '09 Jun 2023', '16 Jun 2023', '23 Jun 2023', '30 Jun 2023', '28 Jul 2023'], 'SX50': ['19 May 2023', '26 May 2023', '02 Jun 2023', '09 Jun 2023', '16 Jun 2023', '23 Jun 2023', '30 Jun 2023', '28 Jul 2023']}, 'EF-Spread': {'SENSEX': ['19 May 2023', '26 May 2023', '02 Jun 2023', '09 Jun 2023', '16 Jun 2023', '23 Jun 2023', '30 Jun 2023', '28 Jul 2023'], 'BANKEX': ['19 May 2023', '26 May 2023', '02 Jun 2023', '09 Jun 2023', '16 Jun 2023', '23 Jun 2023', '30 Jun 2023', '28 Jul 2023'], 'SX50': ['19 May 2023', '26 May 2023', '02 Jun 2023', '09 Jun 2023', '16 Jun 2023', '23 Jun 2023', '30 Jun 2023', '28 Jul 2023']}, 'POC(IO)': {'SENSEX': ['19 May 2023', '26 May 2023', '02 Jun 2023', '09 Jun 2023', '16 Jun 2023', '23 Jun 2023', '30 Jun 2023', '28 Jul 2023'], 'BANKEX': ['19 May 2023', '26 May 2023', '02 Jun 2023', '09 Jun 2023', '16 Jun 2023', '23 Jun 2023', '30 Jun 2023', '28 Jul 2023'], 'SX50': ['19 May 2023', '26 May 2023', '02 Jun 2023', '09 Jun 2023', '16 Jun 2023', '23 Jun 2023', '30 Jun 2023', '28 Jul 2023']}, 'POC(SO)': {'SENSEX': ['19 May 2023', '26 May 2023', '02 Jun 2023', '09 Jun 2023', '16 Jun 2023', '23 Jun 2023', '30 Jun 2023', '28 Jul 2023'], 'BANKEX': ['19 May 2023', '26 May 2023', '02 Jun 2023', '09 Jun 2023', '16 Jun 2023', '23 Jun 2023', '30 Jun 2023', '28 Jul 2023'], 'SX50': ['19 May 2023', '26 May 2023', '02 Jun 2023', '09 Jun 2023', '16 Jun 2023', '23 Jun 2023', '30 Jun 2023', '28 Jul 2023']}}\n"
     ]
    }
   ],
   "source": [
    "from selenium import webdriver\n",
    "\n",
    "url = 'https://www.bseindia.com/markets/Derivatives/DeriReports/DeriOptionchain.html'\n",
    "\n",
    "driver = webdriver.Firefox()\n",
    "driver.get(url)\n",
    "\n",
    "page_content = driver.page_source\n",
    "driver.quit()\n",
    "soup = BeautifulSoup(page_content, 'html.parser')\n",
    "\n",
    "instrument_spread_type = soup.find('select', {'id': 'ddlInstSprdType'}).find_all('option')\n",
    "underlying_asset = soup.find('select', {'id': 'ddlAsset'}).find_all('option')\n",
    "expiry_date = soup.find('select', {'id': 'ddlexpiry'}).find_all('option')\n",
    "\n",
    "result = {}\n",
    "for instrument in instrument_spread_type:\n",
    "    instrument_text = instrument.text.strip()\n",
    "    result[instrument_text] = {}\n",
    "    for asset in underlying_asset[1:]:\n",
    "        asset_text = asset.text.strip()\n",
    "        result[instrument_text][asset_text] = {}\n",
    "        date_list=[]\n",
    "        for date in expiry_date[1:]:\n",
    "            date_text = date.text.strip()\n",
    "            date_list.append(date_text)\n",
    "        result[instrument_text][asset_text] = date_list\n",
    "\n",
    "print(result)"
   ]
  },
  {
   "cell_type": "code",
   "execution_count": 98,
   "id": "d8aa0380-be64-4e38-9e36-a9b8b8ca7330",
   "metadata": {
    "collapsed": true,
    "jupyter": {
     "outputs_hidden": true
    },
    "tags": []
   },
   "outputs": [
    {
     "data": {
      "text/plain": [
       "dict_keys(['Index Futures', 'Equity Futures', 'Index Option', 'Equity Option', 'IF-Spread', 'EF-Spread', 'POC(IO)', 'POC(SO)'])"
      ]
     },
     "execution_count": 98,
     "metadata": {},
     "output_type": "execute_result"
    }
   ],
   "source": [
    "result.keys()"
   ]
  },
  {
   "cell_type": "code",
   "execution_count": 101,
   "id": "a14f7b5a-f604-41ac-a9ee-02dfb9400df7",
   "metadata": {
    "collapsed": true,
    "jupyter": {
     "outputs_hidden": true
    },
    "tags": []
   },
   "outputs": [
    {
     "data": {
      "text/plain": [
       "{'SENSEX': ['19 May 2023',\n",
       "  '26 May 2023',\n",
       "  '02 Jun 2023',\n",
       "  '09 Jun 2023',\n",
       "  '16 Jun 2023',\n",
       "  '23 Jun 2023',\n",
       "  '30 Jun 2023',\n",
       "  '28 Jul 2023'],\n",
       " 'BANKEX': ['19 May 2023',\n",
       "  '26 May 2023',\n",
       "  '02 Jun 2023',\n",
       "  '09 Jun 2023',\n",
       "  '16 Jun 2023',\n",
       "  '23 Jun 2023',\n",
       "  '30 Jun 2023',\n",
       "  '28 Jul 2023'],\n",
       " 'SX50': ['19 May 2023',\n",
       "  '26 May 2023',\n",
       "  '02 Jun 2023',\n",
       "  '09 Jun 2023',\n",
       "  '16 Jun 2023',\n",
       "  '23 Jun 2023',\n",
       "  '30 Jun 2023',\n",
       "  '28 Jul 2023']}"
      ]
     },
     "execution_count": 101,
     "metadata": {},
     "output_type": "execute_result"
    }
   ],
   "source": [
    "result['Index Option']"
   ]
  },
  {
   "cell_type": "code",
   "execution_count": null,
   "id": "ac264ff5-64e6-4566-b752-9ed5c3cdb6da",
   "metadata": {},
   "outputs": [],
   "source": []
  }
 ],
 "metadata": {
  "kernelspec": {
   "display_name": "Python 3 (ipykernel)",
   "language": "python",
   "name": "python3"
  },
  "language_info": {
   "codemirror_mode": {
    "name": "ipython",
    "version": 3
   },
   "file_extension": ".py",
   "mimetype": "text/x-python",
   "name": "python",
   "nbconvert_exporter": "python",
   "pygments_lexer": "ipython3",
   "version": "3.11.3"
  }
 },
 "nbformat": 4,
 "nbformat_minor": 5
}
